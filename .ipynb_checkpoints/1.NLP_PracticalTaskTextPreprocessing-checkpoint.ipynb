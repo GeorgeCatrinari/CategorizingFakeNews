{
 "cells": [
  {
   "metadata": {
    "ExecuteTime": {
     "end_time": "2025-09-02T13:13:08.787113Z",
     "start_time": "2025-09-02T13:13:06.095304Z"
    }
   },
   "cell_type": "code",
   "source": [
    "import nltk\n",
    "from nltk.tokenize import word_tokenize\n",
    "from nltk.stem import PorterStemmer, WordNetLemmatizer\n",
    "from nltk.corpus import stopwords\n",
    "import re\n",
    "import pandas as pd\n",
    "nltk.download('stopwords')\n",
    "nltk.download('punkt_tab')\n",
    "nltk.download('wordnet')"
   ],
   "id": "fbc121e30a2defb3",
   "outputs": [
    {
     "name": "stderr",
     "output_type": "stream",
     "text": [
      "[nltk_data] Downloading package stopwords to\n",
      "[nltk_data]     C:\\Users\\George\\AppData\\Roaming\\nltk_data...\n",
      "[nltk_data]   Package stopwords is already up-to-date!\n",
      "[nltk_data] Downloading package punkt_tab to\n",
      "[nltk_data]     C:\\Users\\George\\AppData\\Roaming\\nltk_data...\n",
      "[nltk_data]   Package punkt_tab is already up-to-date!\n",
      "[nltk_data] Downloading package wordnet to\n",
      "[nltk_data]     C:\\Users\\George\\AppData\\Roaming\\nltk_data...\n"
     ]
    },
    {
     "data": {
      "text/plain": [
       "True"
      ]
     },
     "execution_count": 52,
     "metadata": {},
     "output_type": "execute_result"
    }
   ],
   "execution_count": 52
  },
  {
   "metadata": {
    "ExecuteTime": {
     "end_time": "2025-09-02T12:06:06.128970Z",
     "start_time": "2025-09-02T12:06:06.111460Z"
    }
   },
   "cell_type": "code",
   "source": "data = pd.read_csv(\"multilingual_mobile.csv\")",
   "id": "67f944497c0b5d09",
   "outputs": [],
   "execution_count": 3
  },
  {
   "metadata": {
    "ExecuteTime": {
     "end_time": "2025-09-02T12:06:21.366848Z",
     "start_time": "2025-09-02T12:06:21.355346Z"
    }
   },
   "cell_type": "code",
   "source": "data.info()",
   "id": "1d7bc22259a337ae",
   "outputs": [
    {
     "name": "stdout",
     "output_type": "stream",
     "text": [
      "<class 'pandas.core.frame.DataFrame'>\n",
      "RangeIndex: 2514 entries, 0 to 2513\n",
      "Data columns (total 15 columns):\n",
      " #   Column             Non-Null Count  Dtype  \n",
      "---  ------             --------------  -----  \n",
      " 0   review_id          2514 non-null   int64  \n",
      " 1   user_id            2514 non-null   int64  \n",
      " 2   app_name           2514 non-null   object \n",
      " 3   app_category       2514 non-null   object \n",
      " 4   review_text        2455 non-null   object \n",
      " 5   review_language    2514 non-null   object \n",
      " 6   rating             2477 non-null   float64\n",
      " 7   review_date        2514 non-null   object \n",
      " 8   verified_purchase  2514 non-null   bool   \n",
      " 9   device_type        2514 non-null   object \n",
      " 10  num_helpful_votes  2514 non-null   int64  \n",
      " 11  user_age           2514 non-null   float64\n",
      " 12  user_country       2473 non-null   object \n",
      " 13  user_gender        1927 non-null   object \n",
      " 14  app_version        2484 non-null   object \n",
      "dtypes: bool(1), float64(2), int64(3), object(9)\n",
      "memory usage: 277.6+ KB\n"
     ]
    }
   ],
   "execution_count": 4
  },
  {
   "metadata": {
    "ExecuteTime": {
     "end_time": "2025-09-02T12:06:38.690533Z",
     "start_time": "2025-09-02T12:06:38.676774Z"
    }
   },
   "cell_type": "code",
   "source": "data.head()",
   "id": "3543622ae7b8e99c",
   "outputs": [
    {
     "data": {
      "text/plain": [
       "   review_id  user_id      app_name    app_category  \\\n",
       "0          1  1967825     MX Player  Travel & Local   \n",
       "1          2  9242600        Tinder      Navigation   \n",
       "2          3  7636477       Netflix          Dating   \n",
       "3          4   209031         Venmo    Productivity   \n",
       "4          5  7190293  Google Drive       Education   \n",
       "\n",
       "                                         review_text review_language  rating  \\\n",
       "0  Qui doloribus consequuntur. Perspiciatis tempo...              no     1.3   \n",
       "1  Great app but too many ads, consider premium v...              ru     1.6   \n",
       "2  The interface could be better but overall good...              es     3.6   \n",
       "3  Latest update broke some features, please fix ...              vi     3.8   \n",
       "4  Perfect for daily use, highly recommend to eve...              tl     3.2   \n",
       "\n",
       "           review_date  verified_purchase     device_type  num_helpful_votes  \\\n",
       "0  2024-10-09 19:26:40               True  Android Tablet                 65   \n",
       "1  2024-06-21 17:29:40               True            iPad                209   \n",
       "2  2024-10-31 13:47:12               True            iPad                163   \n",
       "3  2025-03-12 06:16:22               True             iOS                664   \n",
       "4  2024-04-21 03:48:27               True            iPad               1197   \n",
       "\n",
       "   user_age user_country        user_gender  app_version  \n",
       "0      14.0        China             Female          1.4  \n",
       "1      18.0      Germany               Male          8.9  \n",
       "2      67.0      Nigeria               Male  2.8.37.5926  \n",
       "3      66.0        India             Female         10.2  \n",
       "4      40.0  South Korea  Prefer not to say          4.7  "
      ],
      "text/html": [
       "<div>\n",
       "<style scoped>\n",
       "    .dataframe tbody tr th:only-of-type {\n",
       "        vertical-align: middle;\n",
       "    }\n",
       "\n",
       "    .dataframe tbody tr th {\n",
       "        vertical-align: top;\n",
       "    }\n",
       "\n",
       "    .dataframe thead th {\n",
       "        text-align: right;\n",
       "    }\n",
       "</style>\n",
       "<table border=\"1\" class=\"dataframe\">\n",
       "  <thead>\n",
       "    <tr style=\"text-align: right;\">\n",
       "      <th></th>\n",
       "      <th>review_id</th>\n",
       "      <th>user_id</th>\n",
       "      <th>app_name</th>\n",
       "      <th>app_category</th>\n",
       "      <th>review_text</th>\n",
       "      <th>review_language</th>\n",
       "      <th>rating</th>\n",
       "      <th>review_date</th>\n",
       "      <th>verified_purchase</th>\n",
       "      <th>device_type</th>\n",
       "      <th>num_helpful_votes</th>\n",
       "      <th>user_age</th>\n",
       "      <th>user_country</th>\n",
       "      <th>user_gender</th>\n",
       "      <th>app_version</th>\n",
       "    </tr>\n",
       "  </thead>\n",
       "  <tbody>\n",
       "    <tr>\n",
       "      <th>0</th>\n",
       "      <td>1</td>\n",
       "      <td>1967825</td>\n",
       "      <td>MX Player</td>\n",
       "      <td>Travel &amp; Local</td>\n",
       "      <td>Qui doloribus consequuntur. Perspiciatis tempo...</td>\n",
       "      <td>no</td>\n",
       "      <td>1.3</td>\n",
       "      <td>2024-10-09 19:26:40</td>\n",
       "      <td>True</td>\n",
       "      <td>Android Tablet</td>\n",
       "      <td>65</td>\n",
       "      <td>14.0</td>\n",
       "      <td>China</td>\n",
       "      <td>Female</td>\n",
       "      <td>1.4</td>\n",
       "    </tr>\n",
       "    <tr>\n",
       "      <th>1</th>\n",
       "      <td>2</td>\n",
       "      <td>9242600</td>\n",
       "      <td>Tinder</td>\n",
       "      <td>Navigation</td>\n",
       "      <td>Great app but too many ads, consider premium v...</td>\n",
       "      <td>ru</td>\n",
       "      <td>1.6</td>\n",
       "      <td>2024-06-21 17:29:40</td>\n",
       "      <td>True</td>\n",
       "      <td>iPad</td>\n",
       "      <td>209</td>\n",
       "      <td>18.0</td>\n",
       "      <td>Germany</td>\n",
       "      <td>Male</td>\n",
       "      <td>8.9</td>\n",
       "    </tr>\n",
       "    <tr>\n",
       "      <th>2</th>\n",
       "      <td>3</td>\n",
       "      <td>7636477</td>\n",
       "      <td>Netflix</td>\n",
       "      <td>Dating</td>\n",
       "      <td>The interface could be better but overall good...</td>\n",
       "      <td>es</td>\n",
       "      <td>3.6</td>\n",
       "      <td>2024-10-31 13:47:12</td>\n",
       "      <td>True</td>\n",
       "      <td>iPad</td>\n",
       "      <td>163</td>\n",
       "      <td>67.0</td>\n",
       "      <td>Nigeria</td>\n",
       "      <td>Male</td>\n",
       "      <td>2.8.37.5926</td>\n",
       "    </tr>\n",
       "    <tr>\n",
       "      <th>3</th>\n",
       "      <td>4</td>\n",
       "      <td>209031</td>\n",
       "      <td>Venmo</td>\n",
       "      <td>Productivity</td>\n",
       "      <td>Latest update broke some features, please fix ...</td>\n",
       "      <td>vi</td>\n",
       "      <td>3.8</td>\n",
       "      <td>2025-03-12 06:16:22</td>\n",
       "      <td>True</td>\n",
       "      <td>iOS</td>\n",
       "      <td>664</td>\n",
       "      <td>66.0</td>\n",
       "      <td>India</td>\n",
       "      <td>Female</td>\n",
       "      <td>10.2</td>\n",
       "    </tr>\n",
       "    <tr>\n",
       "      <th>4</th>\n",
       "      <td>5</td>\n",
       "      <td>7190293</td>\n",
       "      <td>Google Drive</td>\n",
       "      <td>Education</td>\n",
       "      <td>Perfect for daily use, highly recommend to eve...</td>\n",
       "      <td>tl</td>\n",
       "      <td>3.2</td>\n",
       "      <td>2024-04-21 03:48:27</td>\n",
       "      <td>True</td>\n",
       "      <td>iPad</td>\n",
       "      <td>1197</td>\n",
       "      <td>40.0</td>\n",
       "      <td>South Korea</td>\n",
       "      <td>Prefer not to say</td>\n",
       "      <td>4.7</td>\n",
       "    </tr>\n",
       "  </tbody>\n",
       "</table>\n",
       "</div>"
      ]
     },
     "execution_count": 5,
     "metadata": {},
     "output_type": "execute_result"
    }
   ],
   "execution_count": 5
  },
  {
   "metadata": {
    "ExecuteTime": {
     "end_time": "2025-09-02T12:08:12.138189Z",
     "start_time": "2025-09-02T12:08:12.133855Z"
    }
   },
   "cell_type": "code",
   "source": "data['review_text'][2]",
   "id": "53f6b8d6367c3391",
   "outputs": [
    {
     "data": {
      "text/plain": [
       "'The interface could be better but overall good experience.'"
      ]
     },
     "execution_count": 8,
     "metadata": {},
     "output_type": "execute_result"
    }
   ],
   "execution_count": 8
  },
  {
   "metadata": {},
   "cell_type": "markdown",
   "source": "Step 1: Lower the text",
   "id": "2f8b909e30cb362"
  },
  {
   "metadata": {
    "ExecuteTime": {
     "end_time": "2025-09-02T12:09:55.103075Z",
     "start_time": "2025-09-02T12:09:55.098855Z"
    }
   },
   "cell_type": "code",
   "source": "data['review_text_lowercase'] = data['review_text'].str.lower()",
   "id": "5509a43d3a05e8d8",
   "outputs": [],
   "execution_count": 9
  },
  {
   "metadata": {
    "ExecuteTime": {
     "end_time": "2025-09-02T12:10:11.288314Z",
     "start_time": "2025-09-02T12:10:11.280231Z"
    }
   },
   "cell_type": "code",
   "source": "data.head()",
   "id": "640f68c34e46a84c",
   "outputs": [
    {
     "data": {
      "text/plain": [
       "   review_id  user_id      app_name    app_category  \\\n",
       "0          1  1967825     MX Player  Travel & Local   \n",
       "1          2  9242600        Tinder      Navigation   \n",
       "2          3  7636477       Netflix          Dating   \n",
       "3          4   209031         Venmo    Productivity   \n",
       "4          5  7190293  Google Drive       Education   \n",
       "\n",
       "                                         review_text review_language  rating  \\\n",
       "0  Qui doloribus consequuntur. Perspiciatis tempo...              no     1.3   \n",
       "1  Great app but too many ads, consider premium v...              ru     1.6   \n",
       "2  The interface could be better but overall good...              es     3.6   \n",
       "3  Latest update broke some features, please fix ...              vi     3.8   \n",
       "4  Perfect for daily use, highly recommend to eve...              tl     3.2   \n",
       "\n",
       "           review_date  verified_purchase     device_type  num_helpful_votes  \\\n",
       "0  2024-10-09 19:26:40               True  Android Tablet                 65   \n",
       "1  2024-06-21 17:29:40               True            iPad                209   \n",
       "2  2024-10-31 13:47:12               True            iPad                163   \n",
       "3  2025-03-12 06:16:22               True             iOS                664   \n",
       "4  2024-04-21 03:48:27               True            iPad               1197   \n",
       "\n",
       "   user_age user_country        user_gender  app_version  \\\n",
       "0      14.0        China             Female          1.4   \n",
       "1      18.0      Germany               Male          8.9   \n",
       "2      67.0      Nigeria               Male  2.8.37.5926   \n",
       "3      66.0        India             Female         10.2   \n",
       "4      40.0  South Korea  Prefer not to say          4.7   \n",
       "\n",
       "                               review_text_lowercase  \n",
       "0  qui doloribus consequuntur. perspiciatis tempo...  \n",
       "1  great app but too many ads, consider premium v...  \n",
       "2  the interface could be better but overall good...  \n",
       "3  latest update broke some features, please fix ...  \n",
       "4  perfect for daily use, highly recommend to eve...  "
      ],
      "text/html": [
       "<div>\n",
       "<style scoped>\n",
       "    .dataframe tbody tr th:only-of-type {\n",
       "        vertical-align: middle;\n",
       "    }\n",
       "\n",
       "    .dataframe tbody tr th {\n",
       "        vertical-align: top;\n",
       "    }\n",
       "\n",
       "    .dataframe thead th {\n",
       "        text-align: right;\n",
       "    }\n",
       "</style>\n",
       "<table border=\"1\" class=\"dataframe\">\n",
       "  <thead>\n",
       "    <tr style=\"text-align: right;\">\n",
       "      <th></th>\n",
       "      <th>review_id</th>\n",
       "      <th>user_id</th>\n",
       "      <th>app_name</th>\n",
       "      <th>app_category</th>\n",
       "      <th>review_text</th>\n",
       "      <th>review_language</th>\n",
       "      <th>rating</th>\n",
       "      <th>review_date</th>\n",
       "      <th>verified_purchase</th>\n",
       "      <th>device_type</th>\n",
       "      <th>num_helpful_votes</th>\n",
       "      <th>user_age</th>\n",
       "      <th>user_country</th>\n",
       "      <th>user_gender</th>\n",
       "      <th>app_version</th>\n",
       "      <th>review_text_lowercase</th>\n",
       "    </tr>\n",
       "  </thead>\n",
       "  <tbody>\n",
       "    <tr>\n",
       "      <th>0</th>\n",
       "      <td>1</td>\n",
       "      <td>1967825</td>\n",
       "      <td>MX Player</td>\n",
       "      <td>Travel &amp; Local</td>\n",
       "      <td>Qui doloribus consequuntur. Perspiciatis tempo...</td>\n",
       "      <td>no</td>\n",
       "      <td>1.3</td>\n",
       "      <td>2024-10-09 19:26:40</td>\n",
       "      <td>True</td>\n",
       "      <td>Android Tablet</td>\n",
       "      <td>65</td>\n",
       "      <td>14.0</td>\n",
       "      <td>China</td>\n",
       "      <td>Female</td>\n",
       "      <td>1.4</td>\n",
       "      <td>qui doloribus consequuntur. perspiciatis tempo...</td>\n",
       "    </tr>\n",
       "    <tr>\n",
       "      <th>1</th>\n",
       "      <td>2</td>\n",
       "      <td>9242600</td>\n",
       "      <td>Tinder</td>\n",
       "      <td>Navigation</td>\n",
       "      <td>Great app but too many ads, consider premium v...</td>\n",
       "      <td>ru</td>\n",
       "      <td>1.6</td>\n",
       "      <td>2024-06-21 17:29:40</td>\n",
       "      <td>True</td>\n",
       "      <td>iPad</td>\n",
       "      <td>209</td>\n",
       "      <td>18.0</td>\n",
       "      <td>Germany</td>\n",
       "      <td>Male</td>\n",
       "      <td>8.9</td>\n",
       "      <td>great app but too many ads, consider premium v...</td>\n",
       "    </tr>\n",
       "    <tr>\n",
       "      <th>2</th>\n",
       "      <td>3</td>\n",
       "      <td>7636477</td>\n",
       "      <td>Netflix</td>\n",
       "      <td>Dating</td>\n",
       "      <td>The interface could be better but overall good...</td>\n",
       "      <td>es</td>\n",
       "      <td>3.6</td>\n",
       "      <td>2024-10-31 13:47:12</td>\n",
       "      <td>True</td>\n",
       "      <td>iPad</td>\n",
       "      <td>163</td>\n",
       "      <td>67.0</td>\n",
       "      <td>Nigeria</td>\n",
       "      <td>Male</td>\n",
       "      <td>2.8.37.5926</td>\n",
       "      <td>the interface could be better but overall good...</td>\n",
       "    </tr>\n",
       "    <tr>\n",
       "      <th>3</th>\n",
       "      <td>4</td>\n",
       "      <td>209031</td>\n",
       "      <td>Venmo</td>\n",
       "      <td>Productivity</td>\n",
       "      <td>Latest update broke some features, please fix ...</td>\n",
       "      <td>vi</td>\n",
       "      <td>3.8</td>\n",
       "      <td>2025-03-12 06:16:22</td>\n",
       "      <td>True</td>\n",
       "      <td>iOS</td>\n",
       "      <td>664</td>\n",
       "      <td>66.0</td>\n",
       "      <td>India</td>\n",
       "      <td>Female</td>\n",
       "      <td>10.2</td>\n",
       "      <td>latest update broke some features, please fix ...</td>\n",
       "    </tr>\n",
       "    <tr>\n",
       "      <th>4</th>\n",
       "      <td>5</td>\n",
       "      <td>7190293</td>\n",
       "      <td>Google Drive</td>\n",
       "      <td>Education</td>\n",
       "      <td>Perfect for daily use, highly recommend to eve...</td>\n",
       "      <td>tl</td>\n",
       "      <td>3.2</td>\n",
       "      <td>2024-04-21 03:48:27</td>\n",
       "      <td>True</td>\n",
       "      <td>iPad</td>\n",
       "      <td>1197</td>\n",
       "      <td>40.0</td>\n",
       "      <td>South Korea</td>\n",
       "      <td>Prefer not to say</td>\n",
       "      <td>4.7</td>\n",
       "      <td>perfect for daily use, highly recommend to eve...</td>\n",
       "    </tr>\n",
       "  </tbody>\n",
       "</table>\n",
       "</div>"
      ]
     },
     "execution_count": 11,
     "metadata": {},
     "output_type": "execute_result"
    }
   ],
   "execution_count": 11
  },
  {
   "metadata": {},
   "cell_type": "markdown",
   "source": "Step 2: Remove the stopwords\n",
   "id": "ad801fa6163ded9a"
  },
  {
   "metadata": {
    "ExecuteTime": {
     "end_time": "2025-09-02T12:12:52.956770Z",
     "start_time": "2025-09-02T12:12:52.951194Z"
    }
   },
   "cell_type": "code",
   "source": "en_stopwords= stopwords.words('english')",
   "id": "b29d9a71caecf29a",
   "outputs": [],
   "execution_count": 16
  },
  {
   "metadata": {
    "ExecuteTime": {
     "end_time": "2025-09-02T13:01:19.948044Z",
     "start_time": "2025-09-02T13:01:19.943428Z"
    }
   },
   "cell_type": "code",
   "source": "data['review_text_lowercase'] = data['review_text_lowercase'].fillna('')",
   "id": "4ff04809c5e73948",
   "outputs": [],
   "execution_count": 28
  },
  {
   "metadata": {
    "ExecuteTime": {
     "end_time": "2025-09-02T12:22:02.393380Z",
     "start_time": "2025-09-02T12:22:02.366150Z"
    }
   },
   "cell_type": "code",
   "source": "data['review_text_nostopwords']=data['review_text_lowercase'].apply(lambda x: ' '.join([word for word in x.split() if word not in en_stopwords]))",
   "id": "5c68e21c5eb41886",
   "outputs": [],
   "execution_count": 24
  },
  {
   "metadata": {
    "ExecuteTime": {
     "end_time": "2025-09-02T12:22:16.725175Z",
     "start_time": "2025-09-02T12:22:16.716967Z"
    }
   },
   "cell_type": "code",
   "source": "data.head()",
   "id": "e91656bc74774e7b",
   "outputs": [
    {
     "data": {
      "text/plain": [
       "   review_id  user_id      app_name    app_category  \\\n",
       "0          1  1967825     MX Player  Travel & Local   \n",
       "1          2  9242600        Tinder      Navigation   \n",
       "2          3  7636477       Netflix          Dating   \n",
       "3          4   209031         Venmo    Productivity   \n",
       "4          5  7190293  Google Drive       Education   \n",
       "\n",
       "                                         review_text review_language  rating  \\\n",
       "0  Qui doloribus consequuntur. Perspiciatis tempo...              no     1.3   \n",
       "1  Great app but too many ads, consider premium v...              ru     1.6   \n",
       "2  The interface could be better but overall good...              es     3.6   \n",
       "3  Latest update broke some features, please fix ...              vi     3.8   \n",
       "4  Perfect for daily use, highly recommend to eve...              tl     3.2   \n",
       "\n",
       "           review_date  verified_purchase     device_type  num_helpful_votes  \\\n",
       "0  2024-10-09 19:26:40               True  Android Tablet                 65   \n",
       "1  2024-06-21 17:29:40               True            iPad                209   \n",
       "2  2024-10-31 13:47:12               True            iPad                163   \n",
       "3  2025-03-12 06:16:22               True             iOS                664   \n",
       "4  2024-04-21 03:48:27               True            iPad               1197   \n",
       "\n",
       "   user_age user_country        user_gender  app_version  \\\n",
       "0      14.0        China             Female          1.4   \n",
       "1      18.0      Germany               Male          8.9   \n",
       "2      67.0      Nigeria               Male  2.8.37.5926   \n",
       "3      66.0        India             Female         10.2   \n",
       "4      40.0  South Korea  Prefer not to say          4.7   \n",
       "\n",
       "                               review_text_lowercase  \\\n",
       "0  qui doloribus consequuntur. perspiciatis tempo...   \n",
       "1  great app but too many ads, consider premium v...   \n",
       "2  the interface could be better but overall good...   \n",
       "3  latest update broke some features, please fix ...   \n",
       "4  perfect for daily use, highly recommend to eve...   \n",
       "\n",
       "                             review_text_nostopwords  \n",
       "0  qui doloribus consequuntur. perspiciatis tempo...  \n",
       "1      great app many ads, consider premium version.  \n",
       "2    interface could better overall good experience.  \n",
       "3     latest update broke features, please fix soon.  \n",
       "4      perfect daily use, highly recommend everyone.  "
      ],
      "text/html": [
       "<div>\n",
       "<style scoped>\n",
       "    .dataframe tbody tr th:only-of-type {\n",
       "        vertical-align: middle;\n",
       "    }\n",
       "\n",
       "    .dataframe tbody tr th {\n",
       "        vertical-align: top;\n",
       "    }\n",
       "\n",
       "    .dataframe thead th {\n",
       "        text-align: right;\n",
       "    }\n",
       "</style>\n",
       "<table border=\"1\" class=\"dataframe\">\n",
       "  <thead>\n",
       "    <tr style=\"text-align: right;\">\n",
       "      <th></th>\n",
       "      <th>review_id</th>\n",
       "      <th>user_id</th>\n",
       "      <th>app_name</th>\n",
       "      <th>app_category</th>\n",
       "      <th>review_text</th>\n",
       "      <th>review_language</th>\n",
       "      <th>rating</th>\n",
       "      <th>review_date</th>\n",
       "      <th>verified_purchase</th>\n",
       "      <th>device_type</th>\n",
       "      <th>num_helpful_votes</th>\n",
       "      <th>user_age</th>\n",
       "      <th>user_country</th>\n",
       "      <th>user_gender</th>\n",
       "      <th>app_version</th>\n",
       "      <th>review_text_lowercase</th>\n",
       "      <th>review_text_nostopwords</th>\n",
       "    </tr>\n",
       "  </thead>\n",
       "  <tbody>\n",
       "    <tr>\n",
       "      <th>0</th>\n",
       "      <td>1</td>\n",
       "      <td>1967825</td>\n",
       "      <td>MX Player</td>\n",
       "      <td>Travel &amp; Local</td>\n",
       "      <td>Qui doloribus consequuntur. Perspiciatis tempo...</td>\n",
       "      <td>no</td>\n",
       "      <td>1.3</td>\n",
       "      <td>2024-10-09 19:26:40</td>\n",
       "      <td>True</td>\n",
       "      <td>Android Tablet</td>\n",
       "      <td>65</td>\n",
       "      <td>14.0</td>\n",
       "      <td>China</td>\n",
       "      <td>Female</td>\n",
       "      <td>1.4</td>\n",
       "      <td>qui doloribus consequuntur. perspiciatis tempo...</td>\n",
       "      <td>qui doloribus consequuntur. perspiciatis tempo...</td>\n",
       "    </tr>\n",
       "    <tr>\n",
       "      <th>1</th>\n",
       "      <td>2</td>\n",
       "      <td>9242600</td>\n",
       "      <td>Tinder</td>\n",
       "      <td>Navigation</td>\n",
       "      <td>Great app but too many ads, consider premium v...</td>\n",
       "      <td>ru</td>\n",
       "      <td>1.6</td>\n",
       "      <td>2024-06-21 17:29:40</td>\n",
       "      <td>True</td>\n",
       "      <td>iPad</td>\n",
       "      <td>209</td>\n",
       "      <td>18.0</td>\n",
       "      <td>Germany</td>\n",
       "      <td>Male</td>\n",
       "      <td>8.9</td>\n",
       "      <td>great app but too many ads, consider premium v...</td>\n",
       "      <td>great app many ads, consider premium version.</td>\n",
       "    </tr>\n",
       "    <tr>\n",
       "      <th>2</th>\n",
       "      <td>3</td>\n",
       "      <td>7636477</td>\n",
       "      <td>Netflix</td>\n",
       "      <td>Dating</td>\n",
       "      <td>The interface could be better but overall good...</td>\n",
       "      <td>es</td>\n",
       "      <td>3.6</td>\n",
       "      <td>2024-10-31 13:47:12</td>\n",
       "      <td>True</td>\n",
       "      <td>iPad</td>\n",
       "      <td>163</td>\n",
       "      <td>67.0</td>\n",
       "      <td>Nigeria</td>\n",
       "      <td>Male</td>\n",
       "      <td>2.8.37.5926</td>\n",
       "      <td>the interface could be better but overall good...</td>\n",
       "      <td>interface could better overall good experience.</td>\n",
       "    </tr>\n",
       "    <tr>\n",
       "      <th>3</th>\n",
       "      <td>4</td>\n",
       "      <td>209031</td>\n",
       "      <td>Venmo</td>\n",
       "      <td>Productivity</td>\n",
       "      <td>Latest update broke some features, please fix ...</td>\n",
       "      <td>vi</td>\n",
       "      <td>3.8</td>\n",
       "      <td>2025-03-12 06:16:22</td>\n",
       "      <td>True</td>\n",
       "      <td>iOS</td>\n",
       "      <td>664</td>\n",
       "      <td>66.0</td>\n",
       "      <td>India</td>\n",
       "      <td>Female</td>\n",
       "      <td>10.2</td>\n",
       "      <td>latest update broke some features, please fix ...</td>\n",
       "      <td>latest update broke features, please fix soon.</td>\n",
       "    </tr>\n",
       "    <tr>\n",
       "      <th>4</th>\n",
       "      <td>5</td>\n",
       "      <td>7190293</td>\n",
       "      <td>Google Drive</td>\n",
       "      <td>Education</td>\n",
       "      <td>Perfect for daily use, highly recommend to eve...</td>\n",
       "      <td>tl</td>\n",
       "      <td>3.2</td>\n",
       "      <td>2024-04-21 03:48:27</td>\n",
       "      <td>True</td>\n",
       "      <td>iPad</td>\n",
       "      <td>1197</td>\n",
       "      <td>40.0</td>\n",
       "      <td>South Korea</td>\n",
       "      <td>Prefer not to say</td>\n",
       "      <td>4.7</td>\n",
       "      <td>perfect for daily use, highly recommend to eve...</td>\n",
       "      <td>perfect daily use, highly recommend everyone.</td>\n",
       "    </tr>\n",
       "  </tbody>\n",
       "</table>\n",
       "</div>"
      ]
     },
     "execution_count": 25,
     "metadata": {},
     "output_type": "execute_result"
    }
   ],
   "execution_count": 25
  },
  {
   "metadata": {},
   "cell_type": "markdown",
   "source": "Step 3: Remove punctuation\n",
   "id": "f49ad42864462c6d"
  },
  {
   "metadata": {
    "ExecuteTime": {
     "end_time": "2025-09-02T13:00:07.084146Z",
     "start_time": "2025-09-02T13:00:07.062200Z"
    }
   },
   "cell_type": "code",
   "source": "data['review_text_nostopwords_nopunct']=data.apply(lambda x: re.sub(r'[^\\w\\s]', '', x['review_text_nostopwords']), axis=1)",
   "id": "ac90cd137fefede9",
   "outputs": [],
   "execution_count": 26
  },
  {
   "metadata": {
    "ExecuteTime": {
     "end_time": "2025-09-02T13:00:11.322372Z",
     "start_time": "2025-09-02T13:00:11.313114Z"
    }
   },
   "cell_type": "code",
   "source": "data.head()",
   "id": "715e22b953c9b6",
   "outputs": [
    {
     "data": {
      "text/plain": [
       "   review_id  user_id      app_name    app_category  \\\n",
       "0          1  1967825     MX Player  Travel & Local   \n",
       "1          2  9242600        Tinder      Navigation   \n",
       "2          3  7636477       Netflix          Dating   \n",
       "3          4   209031         Venmo    Productivity   \n",
       "4          5  7190293  Google Drive       Education   \n",
       "\n",
       "                                         review_text review_language  rating  \\\n",
       "0  Qui doloribus consequuntur. Perspiciatis tempo...              no     1.3   \n",
       "1  Great app but too many ads, consider premium v...              ru     1.6   \n",
       "2  The interface could be better but overall good...              es     3.6   \n",
       "3  Latest update broke some features, please fix ...              vi     3.8   \n",
       "4  Perfect for daily use, highly recommend to eve...              tl     3.2   \n",
       "\n",
       "           review_date  verified_purchase     device_type  num_helpful_votes  \\\n",
       "0  2024-10-09 19:26:40               True  Android Tablet                 65   \n",
       "1  2024-06-21 17:29:40               True            iPad                209   \n",
       "2  2024-10-31 13:47:12               True            iPad                163   \n",
       "3  2025-03-12 06:16:22               True             iOS                664   \n",
       "4  2024-04-21 03:48:27               True            iPad               1197   \n",
       "\n",
       "   user_age user_country        user_gender  app_version  \\\n",
       "0      14.0        China             Female          1.4   \n",
       "1      18.0      Germany               Male          8.9   \n",
       "2      67.0      Nigeria               Male  2.8.37.5926   \n",
       "3      66.0        India             Female         10.2   \n",
       "4      40.0  South Korea  Prefer not to say          4.7   \n",
       "\n",
       "                               review_text_lowercase  \\\n",
       "0  qui doloribus consequuntur. perspiciatis tempo...   \n",
       "1  great app but too many ads, consider premium v...   \n",
       "2  the interface could be better but overall good...   \n",
       "3  latest update broke some features, please fix ...   \n",
       "4  perfect for daily use, highly recommend to eve...   \n",
       "\n",
       "                             review_text_nostopwords  \\\n",
       "0  qui doloribus consequuntur. perspiciatis tempo...   \n",
       "1      great app many ads, consider premium version.   \n",
       "2    interface could better overall good experience.   \n",
       "3     latest update broke features, please fix soon.   \n",
       "4      perfect daily use, highly recommend everyone.   \n",
       "\n",
       "                     review_text_nostopwords_nopunct  \n",
       "0  qui doloribus consequuntur perspiciatis tempor...  \n",
       "1        great app many ads consider premium version  \n",
       "2     interface could better overall good experience  \n",
       "3       latest update broke features please fix soon  \n",
       "4        perfect daily use highly recommend everyone  "
      ],
      "text/html": [
       "<div>\n",
       "<style scoped>\n",
       "    .dataframe tbody tr th:only-of-type {\n",
       "        vertical-align: middle;\n",
       "    }\n",
       "\n",
       "    .dataframe tbody tr th {\n",
       "        vertical-align: top;\n",
       "    }\n",
       "\n",
       "    .dataframe thead th {\n",
       "        text-align: right;\n",
       "    }\n",
       "</style>\n",
       "<table border=\"1\" class=\"dataframe\">\n",
       "  <thead>\n",
       "    <tr style=\"text-align: right;\">\n",
       "      <th></th>\n",
       "      <th>review_id</th>\n",
       "      <th>user_id</th>\n",
       "      <th>app_name</th>\n",
       "      <th>app_category</th>\n",
       "      <th>review_text</th>\n",
       "      <th>review_language</th>\n",
       "      <th>rating</th>\n",
       "      <th>review_date</th>\n",
       "      <th>verified_purchase</th>\n",
       "      <th>device_type</th>\n",
       "      <th>num_helpful_votes</th>\n",
       "      <th>user_age</th>\n",
       "      <th>user_country</th>\n",
       "      <th>user_gender</th>\n",
       "      <th>app_version</th>\n",
       "      <th>review_text_lowercase</th>\n",
       "      <th>review_text_nostopwords</th>\n",
       "      <th>review_text_nostopwords_nopunct</th>\n",
       "    </tr>\n",
       "  </thead>\n",
       "  <tbody>\n",
       "    <tr>\n",
       "      <th>0</th>\n",
       "      <td>1</td>\n",
       "      <td>1967825</td>\n",
       "      <td>MX Player</td>\n",
       "      <td>Travel &amp; Local</td>\n",
       "      <td>Qui doloribus consequuntur. Perspiciatis tempo...</td>\n",
       "      <td>no</td>\n",
       "      <td>1.3</td>\n",
       "      <td>2024-10-09 19:26:40</td>\n",
       "      <td>True</td>\n",
       "      <td>Android Tablet</td>\n",
       "      <td>65</td>\n",
       "      <td>14.0</td>\n",
       "      <td>China</td>\n",
       "      <td>Female</td>\n",
       "      <td>1.4</td>\n",
       "      <td>qui doloribus consequuntur. perspiciatis tempo...</td>\n",
       "      <td>qui doloribus consequuntur. perspiciatis tempo...</td>\n",
       "      <td>qui doloribus consequuntur perspiciatis tempor...</td>\n",
       "    </tr>\n",
       "    <tr>\n",
       "      <th>1</th>\n",
       "      <td>2</td>\n",
       "      <td>9242600</td>\n",
       "      <td>Tinder</td>\n",
       "      <td>Navigation</td>\n",
       "      <td>Great app but too many ads, consider premium v...</td>\n",
       "      <td>ru</td>\n",
       "      <td>1.6</td>\n",
       "      <td>2024-06-21 17:29:40</td>\n",
       "      <td>True</td>\n",
       "      <td>iPad</td>\n",
       "      <td>209</td>\n",
       "      <td>18.0</td>\n",
       "      <td>Germany</td>\n",
       "      <td>Male</td>\n",
       "      <td>8.9</td>\n",
       "      <td>great app but too many ads, consider premium v...</td>\n",
       "      <td>great app many ads, consider premium version.</td>\n",
       "      <td>great app many ads consider premium version</td>\n",
       "    </tr>\n",
       "    <tr>\n",
       "      <th>2</th>\n",
       "      <td>3</td>\n",
       "      <td>7636477</td>\n",
       "      <td>Netflix</td>\n",
       "      <td>Dating</td>\n",
       "      <td>The interface could be better but overall good...</td>\n",
       "      <td>es</td>\n",
       "      <td>3.6</td>\n",
       "      <td>2024-10-31 13:47:12</td>\n",
       "      <td>True</td>\n",
       "      <td>iPad</td>\n",
       "      <td>163</td>\n",
       "      <td>67.0</td>\n",
       "      <td>Nigeria</td>\n",
       "      <td>Male</td>\n",
       "      <td>2.8.37.5926</td>\n",
       "      <td>the interface could be better but overall good...</td>\n",
       "      <td>interface could better overall good experience.</td>\n",
       "      <td>interface could better overall good experience</td>\n",
       "    </tr>\n",
       "    <tr>\n",
       "      <th>3</th>\n",
       "      <td>4</td>\n",
       "      <td>209031</td>\n",
       "      <td>Venmo</td>\n",
       "      <td>Productivity</td>\n",
       "      <td>Latest update broke some features, please fix ...</td>\n",
       "      <td>vi</td>\n",
       "      <td>3.8</td>\n",
       "      <td>2025-03-12 06:16:22</td>\n",
       "      <td>True</td>\n",
       "      <td>iOS</td>\n",
       "      <td>664</td>\n",
       "      <td>66.0</td>\n",
       "      <td>India</td>\n",
       "      <td>Female</td>\n",
       "      <td>10.2</td>\n",
       "      <td>latest update broke some features, please fix ...</td>\n",
       "      <td>latest update broke features, please fix soon.</td>\n",
       "      <td>latest update broke features please fix soon</td>\n",
       "    </tr>\n",
       "    <tr>\n",
       "      <th>4</th>\n",
       "      <td>5</td>\n",
       "      <td>7190293</td>\n",
       "      <td>Google Drive</td>\n",
       "      <td>Education</td>\n",
       "      <td>Perfect for daily use, highly recommend to eve...</td>\n",
       "      <td>tl</td>\n",
       "      <td>3.2</td>\n",
       "      <td>2024-04-21 03:48:27</td>\n",
       "      <td>True</td>\n",
       "      <td>iPad</td>\n",
       "      <td>1197</td>\n",
       "      <td>40.0</td>\n",
       "      <td>South Korea</td>\n",
       "      <td>Prefer not to say</td>\n",
       "      <td>4.7</td>\n",
       "      <td>perfect for daily use, highly recommend to eve...</td>\n",
       "      <td>perfect daily use, highly recommend everyone.</td>\n",
       "      <td>perfect daily use highly recommend everyone</td>\n",
       "    </tr>\n",
       "  </tbody>\n",
       "</table>\n",
       "</div>"
      ]
     },
     "execution_count": 27,
     "metadata": {},
     "output_type": "execute_result"
    }
   ],
   "execution_count": 27
  },
  {
   "metadata": {},
   "cell_type": "markdown",
   "source": "Step 4: Tokenize\n",
   "id": "4ce1411f509e1fdc"
  },
  {
   "metadata": {
    "ExecuteTime": {
     "end_time": "2025-09-02T13:03:16.104563Z",
     "start_time": "2025-09-02T13:03:15.848706Z"
    }
   },
   "cell_type": "code",
   "source": "data['tokenized'] = data.apply(lambda x: word_tokenize(x['review_text_nostopwords_nopunct']), axis=1)",
   "id": "69c40b864185df14",
   "outputs": [],
   "execution_count": 31
  },
  {
   "metadata": {
    "ExecuteTime": {
     "end_time": "2025-09-02T13:04:41.719180Z",
     "start_time": "2025-09-02T13:04:41.716Z"
    }
   },
   "cell_type": "code",
   "source": "data['tokenized'][0]",
   "id": "f7ccdb48bd4b72d4",
   "outputs": [
    {
     "data": {
      "text/plain": [
       "['qui',\n",
       " 'doloribus',\n",
       " 'consequuntur',\n",
       " 'perspiciatis',\n",
       " 'tempora',\n",
       " 'assumenda',\n",
       " 'in',\n",
       " 'atque',\n",
       " 'doloremque',\n",
       " 'nobis']"
      ]
     },
     "execution_count": 40,
     "metadata": {},
     "output_type": "execute_result"
    }
   ],
   "execution_count": 40
  },
  {
   "metadata": {},
   "cell_type": "markdown",
   "source": "Step 5: Stemming",
   "id": "c1de2a5b400ee83"
  },
  {
   "metadata": {
    "ExecuteTime": {
     "end_time": "2025-09-02T13:05:53.920852Z",
     "start_time": "2025-09-02T13:05:53.918861Z"
    }
   },
   "cell_type": "code",
   "source": "ps = PorterStemmer()",
   "id": "5cb400a8d6486f8a",
   "outputs": [],
   "execution_count": 42
  },
  {
   "metadata": {
    "ExecuteTime": {
     "end_time": "2025-09-02T13:06:49.671999Z",
     "start_time": "2025-09-02T13:06:49.577178Z"
    }
   },
   "cell_type": "code",
   "source": "data['stemmed']= data['tokenized'].apply(lambda tokens: [ps.stem(token) for token in tokens])",
   "id": "d1fe78ac319d16d3",
   "outputs": [],
   "execution_count": 45
  },
  {
   "metadata": {
    "ExecuteTime": {
     "end_time": "2025-09-02T13:14:48.990482Z",
     "start_time": "2025-09-02T13:14:48.985938Z"
    }
   },
   "cell_type": "code",
   "source": "data['stemmed'][2]",
   "id": "a5e3b5e649649698",
   "outputs": [
    {
     "data": {
      "text/plain": [
       "['interfac', 'could', 'better', 'overal', 'good', 'experi']"
      ]
     },
     "execution_count": 55,
     "metadata": {},
     "output_type": "execute_result"
    }
   ],
   "execution_count": 55
  },
  {
   "metadata": {},
   "cell_type": "markdown",
   "source": "Step 6: Lemmatization",
   "id": "c3fdf226a490f514"
  },
  {
   "metadata": {
    "ExecuteTime": {
     "end_time": "2025-09-02T13:07:50.490296Z",
     "start_time": "2025-09-02T13:07:50.488037Z"
    }
   },
   "cell_type": "code",
   "source": "lemmatizer= WordNetLemmatizer()",
   "id": "bd78d7282e6bcdad",
   "outputs": [],
   "execution_count": 48
  },
  {
   "metadata": {
    "ExecuteTime": {
     "end_time": "2025-09-02T13:13:18.458642Z",
     "start_time": "2025-09-02T13:13:16.942071Z"
    }
   },
   "cell_type": "code",
   "source": "data['lemmatized'] = data['tokenized'].apply(lambda tokens: [lemmatizer.lemmatize(token) for token in tokens])",
   "id": "cd868962696a5fb5",
   "outputs": [],
   "execution_count": 53
  },
  {
   "metadata": {
    "ExecuteTime": {
     "end_time": "2025-09-02T13:16:03.106271Z",
     "start_time": "2025-09-02T13:16:03.102258Z"
    }
   },
   "cell_type": "code",
   "source": "data['lemmatized'][2]",
   "id": "d0a9cbf5abb72e44",
   "outputs": [
    {
     "data": {
      "text/plain": [
       "['interface', 'could', 'better', 'overall', 'good', 'experience']"
      ]
     },
     "execution_count": 57,
     "metadata": {},
     "output_type": "execute_result"
    }
   ],
   "execution_count": 57
  },
  {
   "metadata": {},
   "cell_type": "markdown",
   "source": "Step 7: N-grams",
   "id": "afe5e9107d9552ab"
  },
  {
   "metadata": {
    "ExecuteTime": {
     "end_time": "2025-09-02T13:17:05.895627Z",
     "start_time": "2025-09-02T13:17:05.830850Z"
    }
   },
   "cell_type": "code",
   "source": "tokens_clean = sum(data['lemmatized'], [])",
   "id": "be8fc520e7fe17e9",
   "outputs": [],
   "execution_count": 58
  },
  {
   "metadata": {
    "ExecuteTime": {
     "end_time": "2025-09-02T13:17:57.500975Z",
     "start_time": "2025-09-02T13:17:57.487249Z"
    }
   },
   "cell_type": "code",
   "source": [
    "unigrams = (pd.Series(nltk.ngrams(tokens_clean, 1)).value_counts())\n",
    "print(unigrams)"
   ],
   "id": "c8a04572978ff724",
   "outputs": [
    {
     "name": "stdout",
     "output_type": "stream",
     "text": [
      "(feature,)                     520\n",
      "(app,)                         358\n",
      "(update,)                      351\n",
      "(need,)                        317\n",
      "(ad,)                          204\n",
      "                              ... \n",
      "(мелочь,)                        1\n",
      "(ノート暖かい学生建築職人ジャム花嫁,)             1\n",
      "(普通のスマッシュ目的トースト埋め込むシュガー符号,)      1\n",
      "(分割極端なリフト敵対的な怒り追放する知覚,)          1\n",
      "(功能一些工具因为全国解决以上注意,)              1\n",
      "Name: count, Length: 2881, dtype: int64\n"
     ]
    }
   ],
   "execution_count": 60
  },
  {
   "metadata": {
    "ExecuteTime": {
     "end_time": "2025-09-02T13:18:40.905528Z",
     "start_time": "2025-09-02T13:18:40.877616Z"
    }
   },
   "cell_type": "code",
   "source": [
    "bigrams = (pd.Series(nltk.ngrams(tokens_clean, 2)).value_counts())\n",
    "print(bigrams)"
   ],
   "id": "541aeeafcc0ec5ec",
   "outputs": [
    {
     "name": "stdout",
     "output_type": "stream",
     "text": [
      "(performance, throughout)      194\n",
      "(userfriendly, design)         194\n",
      "(design, smooth)               194\n",
      "(smooth, performance)          194\n",
      "(great, app)                   189\n",
      "                              ... \n",
      "(mamma, uguale)                  1\n",
      "(uguale, internazionale)         1\n",
      "(internazionale, direttore)      1\n",
      "(direttore, intendere)           1\n",
      "(intendere, latest)              1\n",
      "Name: count, Length: 7366, dtype: int64\n"
     ]
    }
   ],
   "execution_count": 61
  }
 ],
 "metadata": {
  "kernelspec": {
   "display_name": "Python 3",
   "language": "python",
   "name": "python3"
  },
  "language_info": {
   "codemirror_mode": {
    "name": "ipython",
    "version": 2
   },
   "file_extension": ".py",
   "mimetype": "text/x-python",
   "name": "python",
   "nbconvert_exporter": "python",
   "pygments_lexer": "ipython2",
   "version": "2.7.6"
  }
 },
 "nbformat": 4,
 "nbformat_minor": 5
}
