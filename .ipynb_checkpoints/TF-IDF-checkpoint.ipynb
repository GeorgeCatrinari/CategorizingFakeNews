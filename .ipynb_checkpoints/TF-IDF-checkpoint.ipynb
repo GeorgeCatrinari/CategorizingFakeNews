{
 "cells": [
  {
   "cell_type": "markdown",
   "metadata": {},
   "source": [
    "# 5.3 TF-IDF"
   ]
  },
  {
   "cell_type": "code",
   "metadata": {
    "ExecuteTime": {
     "end_time": "2025-09-03T14:53:12.022510Z",
     "start_time": "2025-09-03T14:53:11.319865Z"
    }
   },
   "source": [
    "import pandas as pd\n",
    "from sklearn.feature_extraction.text import TfidfVectorizer"
   ],
   "outputs": [],
   "execution_count": 1
  },
  {
   "cell_type": "code",
   "metadata": {
    "ExecuteTime": {
     "end_time": "2025-09-03T14:53:12.513942Z",
     "start_time": "2025-09-03T14:53:12.496127Z"
    }
   },
   "source": [
    "data = [' Most shark attacks occur about 10 feet from the beach since that is where the people are',\n",
    "        'the efficiency with which he paired the socks in the drawer was quite admirable',\n",
    "        'carol drank the blood as if she were a vampire',\n",
    "        'giving directions that the mountains are to the west only works when you can see them',\n",
    "        'the sign said there was road work ahead so he decided to speed up',\n",
    "        'the gruff old man sat in the back of the bait shop grumbling to himself as he scooped out a handful of worms']"
   ],
   "outputs": [],
   "execution_count": 2
  },
  {
   "cell_type": "code",
   "metadata": {
    "ExecuteTime": {
     "end_time": "2025-09-03T14:53:13.262881Z",
     "start_time": "2025-09-03T14:53:13.256027Z"
    }
   },
   "source": [
    "tfidfvec = TfidfVectorizer()"
   ],
   "outputs": [],
   "execution_count": 3
  },
  {
   "cell_type": "code",
   "metadata": {
    "ExecuteTime": {
     "end_time": "2025-09-03T14:53:15.398696Z",
     "start_time": "2025-09-03T14:53:15.393057Z"
    }
   },
   "source": [
    "tfidfvec_fit = tfidfvec.fit_transform(data)"
   ],
   "outputs": [],
   "execution_count": 4
  },
  {
   "cell_type": "code",
   "metadata": {
    "ExecuteTime": {
     "end_time": "2025-09-03T14:53:16.758039Z",
     "start_time": "2025-09-03T14:53:16.745299Z"
    }
   },
   "source": [
    "tfidf_bag = pd.DataFrame(tfidfvec_fit.toarray(), columns = tfidfvec.get_feature_names_out())"
   ],
   "outputs": [],
   "execution_count": 5
  },
  {
   "cell_type": "code",
   "metadata": {
    "ExecuteTime": {
     "end_time": "2025-09-03T14:53:17.900408Z",
     "start_time": "2025-09-03T14:53:17.889069Z"
    }
   },
   "source": [
    "print(tfidf_bag)"
   ],
   "outputs": [
    {
     "name": "stdout",
     "output_type": "stream",
     "text": [
      "         10     about  admirable     ahead       are        as   attacks  \\\n",
      "0  0.257061  0.257061   0.000000  0.000000  0.210794  0.000000  0.257061   \n",
      "1  0.000000  0.000000   0.293641  0.000000  0.000000  0.000000  0.000000   \n",
      "2  0.000000  0.000000   0.000000  0.000000  0.000000  0.292313  0.000000   \n",
      "3  0.000000  0.000000   0.000000  0.000000  0.222257  0.000000  0.000000   \n",
      "4  0.000000  0.000000   0.000000  0.290766  0.000000  0.000000  0.000000   \n",
      "5  0.000000  0.000000   0.000000  0.000000  0.000000  0.178615  0.000000   \n",
      "\n",
      "      back     bait     beach  ...      were     west     when     where  \\\n",
      "0  0.00000  0.00000  0.257061  ...  0.000000  0.00000  0.00000  0.257061   \n",
      "1  0.00000  0.00000  0.000000  ...  0.000000  0.00000  0.00000  0.000000   \n",
      "2  0.00000  0.00000  0.000000  ...  0.356474  0.00000  0.00000  0.000000   \n",
      "3  0.00000  0.00000  0.000000  ...  0.000000  0.27104  0.27104  0.000000   \n",
      "4  0.00000  0.00000  0.000000  ...  0.000000  0.00000  0.00000  0.000000   \n",
      "5  0.21782  0.21782  0.000000  ...  0.000000  0.00000  0.00000  0.000000   \n",
      "\n",
      "      which      with      work    works    worms      you  \n",
      "0  0.000000  0.000000  0.000000  0.00000  0.00000  0.00000  \n",
      "1  0.293641  0.293641  0.000000  0.00000  0.00000  0.00000  \n",
      "2  0.000000  0.000000  0.000000  0.00000  0.00000  0.00000  \n",
      "3  0.000000  0.000000  0.000000  0.27104  0.00000  0.27104  \n",
      "4  0.000000  0.000000  0.290766  0.00000  0.00000  0.00000  \n",
      "5  0.000000  0.000000  0.000000  0.00000  0.21782  0.00000  \n",
      "\n",
      "[6 rows x 71 columns]\n"
     ]
    }
   ],
   "execution_count": 6
  }
 ],
 "metadata": {
  "kernelspec": {
   "display_name": "nlp_course_env",
   "language": "python",
   "name": "nlp_course_env"
  },
  "language_info": {
   "codemirror_mode": {
    "name": "ipython",
    "version": 3
   },
   "file_extension": ".py",
   "mimetype": "text/x-python",
   "name": "python",
   "nbconvert_exporter": "python",
   "pygments_lexer": "ipython3",
   "version": "3.11.11"
  }
 },
 "nbformat": 4,
 "nbformat_minor": 4
}
