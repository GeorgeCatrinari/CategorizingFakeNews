{
 "cells": [
  {
   "cell_type": "code",
   "execution_count": 9,
   "id": "initial_id",
   "metadata": {
    "ExecuteTime": {
     "end_time": "2025-09-03T09:47:12.350588Z",
     "start_time": "2025-09-03T09:47:09.102629Z"
    },
    "collapsed": true,
    "jupyter": {
     "outputs_hidden": true
    }
   },
   "outputs": [],
   "source": [
    "import nltk\n",
    "from nltk.tokenize import word_tokenize\n",
    "from nltk.corpus import stopwords\n",
    "from nltk.stem import WordNetLemmatizer\n",
    "import pandas as pd\n",
    "import spacy\n",
    "import re\n",
    "import matplotlib.pyplot as plt"
   ]
  },
  {
   "cell_type": "markdown",
   "id": "23bebc41d4c080f5",
   "metadata": {},
   "source": [
    "<h4> Load Data<h4>"
   ]
  },
  {
   "cell_type": "code",
   "execution_count": 10,
   "id": "aca1b22c025374df",
   "metadata": {
    "ExecuteTime": {
     "end_time": "2025-09-03T09:47:14.325208Z",
     "start_time": "2025-09-03T09:47:14.032735Z"
    }
   },
   "outputs": [],
   "source": [
    "data = pd.read_csv(\"bbc_news.csv\")"
   ]
  },
  {
   "cell_type": "code",
   "execution_count": 11,
   "id": "b40b20bbc2f00e3c",
   "metadata": {
    "ExecuteTime": {
     "end_time": "2025-09-03T09:47:19.409537Z",
     "start_time": "2025-09-03T09:47:19.389626Z"
    }
   },
   "outputs": [
    {
     "data": {
      "text/html": [
       "<div>\n",
       "<style scoped>\n",
       "    .dataframe tbody tr th:only-of-type {\n",
       "        vertical-align: middle;\n",
       "    }\n",
       "\n",
       "    .dataframe tbody tr th {\n",
       "        vertical-align: top;\n",
       "    }\n",
       "\n",
       "    .dataframe thead th {\n",
       "        text-align: right;\n",
       "    }\n",
       "</style>\n",
       "<table border=\"1\" class=\"dataframe\">\n",
       "  <thead>\n",
       "    <tr style=\"text-align: right;\">\n",
       "      <th></th>\n",
       "      <th>title</th>\n",
       "      <th>pubDate</th>\n",
       "      <th>guid</th>\n",
       "      <th>link</th>\n",
       "      <th>description</th>\n",
       "    </tr>\n",
       "  </thead>\n",
       "  <tbody>\n",
       "    <tr>\n",
       "      <th>0</th>\n",
       "      <td>Ukraine: Angry Zelensky vows to punish Russian...</td>\n",
       "      <td>Mon, 07 Mar 2022 08:01:56 GMT</td>\n",
       "      <td>https://www.bbc.co.uk/news/world-europe-60638042</td>\n",
       "      <td>https://www.bbc.co.uk/news/world-europe-606380...</td>\n",
       "      <td>The Ukrainian president says the country will ...</td>\n",
       "    </tr>\n",
       "    <tr>\n",
       "      <th>1</th>\n",
       "      <td>War in Ukraine: Taking cover in a town under a...</td>\n",
       "      <td>Sun, 06 Mar 2022 22:49:58 GMT</td>\n",
       "      <td>https://www.bbc.co.uk/news/world-europe-60641873</td>\n",
       "      <td>https://www.bbc.co.uk/news/world-europe-606418...</td>\n",
       "      <td>Jeremy Bowen was on the frontline in Irpin, as...</td>\n",
       "    </tr>\n",
       "    <tr>\n",
       "      <th>2</th>\n",
       "      <td>Ukraine war 'catastrophic for global food'</td>\n",
       "      <td>Mon, 07 Mar 2022 00:14:42 GMT</td>\n",
       "      <td>https://www.bbc.co.uk/news/business-60623941</td>\n",
       "      <td>https://www.bbc.co.uk/news/business-60623941?a...</td>\n",
       "      <td>One of the world's biggest fertiliser firms sa...</td>\n",
       "    </tr>\n",
       "    <tr>\n",
       "      <th>3</th>\n",
       "      <td>Manchester Arena bombing: Saffie Roussos's par...</td>\n",
       "      <td>Mon, 07 Mar 2022 00:05:40 GMT</td>\n",
       "      <td>https://www.bbc.co.uk/news/uk-60579079</td>\n",
       "      <td>https://www.bbc.co.uk/news/uk-60579079?at_medi...</td>\n",
       "      <td>The parents of the Manchester Arena bombing's ...</td>\n",
       "    </tr>\n",
       "    <tr>\n",
       "      <th>4</th>\n",
       "      <td>Ukraine conflict: Oil price soars to highest l...</td>\n",
       "      <td>Mon, 07 Mar 2022 08:15:53 GMT</td>\n",
       "      <td>https://www.bbc.co.uk/news/business-60642786</td>\n",
       "      <td>https://www.bbc.co.uk/news/business-60642786?a...</td>\n",
       "      <td>Consumers are feeling the impact of higher ene...</td>\n",
       "    </tr>\n",
       "  </tbody>\n",
       "</table>\n",
       "</div>"
      ],
      "text/plain": [
       "                                               title  \\\n",
       "0  Ukraine: Angry Zelensky vows to punish Russian...   \n",
       "1  War in Ukraine: Taking cover in a town under a...   \n",
       "2         Ukraine war 'catastrophic for global food'   \n",
       "3  Manchester Arena bombing: Saffie Roussos's par...   \n",
       "4  Ukraine conflict: Oil price soars to highest l...   \n",
       "\n",
       "                         pubDate  \\\n",
       "0  Mon, 07 Mar 2022 08:01:56 GMT   \n",
       "1  Sun, 06 Mar 2022 22:49:58 GMT   \n",
       "2  Mon, 07 Mar 2022 00:14:42 GMT   \n",
       "3  Mon, 07 Mar 2022 00:05:40 GMT   \n",
       "4  Mon, 07 Mar 2022 08:15:53 GMT   \n",
       "\n",
       "                                               guid  \\\n",
       "0  https://www.bbc.co.uk/news/world-europe-60638042   \n",
       "1  https://www.bbc.co.uk/news/world-europe-60641873   \n",
       "2      https://www.bbc.co.uk/news/business-60623941   \n",
       "3            https://www.bbc.co.uk/news/uk-60579079   \n",
       "4      https://www.bbc.co.uk/news/business-60642786   \n",
       "\n",
       "                                                link  \\\n",
       "0  https://www.bbc.co.uk/news/world-europe-606380...   \n",
       "1  https://www.bbc.co.uk/news/world-europe-606418...   \n",
       "2  https://www.bbc.co.uk/news/business-60623941?a...   \n",
       "3  https://www.bbc.co.uk/news/uk-60579079?at_medi...   \n",
       "4  https://www.bbc.co.uk/news/business-60642786?a...   \n",
       "\n",
       "                                         description  \n",
       "0  The Ukrainian president says the country will ...  \n",
       "1  Jeremy Bowen was on the frontline in Irpin, as...  \n",
       "2  One of the world's biggest fertiliser firms sa...  \n",
       "3  The parents of the Manchester Arena bombing's ...  \n",
       "4  Consumers are feeling the impact of higher ene...  "
      ]
     },
     "execution_count": 11,
     "metadata": {},
     "output_type": "execute_result"
    }
   ],
   "source": [
    "data.head()"
   ]
  },
  {
   "cell_type": "code",
   "execution_count": 12,
   "id": "14febb12ec3aa684",
   "metadata": {
    "ExecuteTime": {
     "end_time": "2025-09-03T09:47:56.135194Z",
     "start_time": "2025-09-03T09:47:56.091477Z"
    }
   },
   "outputs": [
    {
     "name": "stdout",
     "output_type": "stream",
     "text": [
      "<class 'pandas.core.frame.DataFrame'>\n",
      "RangeIndex: 42115 entries, 0 to 42114\n",
      "Data columns (total 5 columns):\n",
      " #   Column       Non-Null Count  Dtype \n",
      "---  ------       --------------  ----- \n",
      " 0   title        42115 non-null  object\n",
      " 1   pubDate      42115 non-null  object\n",
      " 2   guid         42115 non-null  object\n",
      " 3   link         42115 non-null  object\n",
      " 4   description  42115 non-null  object\n",
      "dtypes: object(5)\n",
      "memory usage: 1.6+ MB\n"
     ]
    }
   ],
   "source": [
    "data.info()"
   ]
  },
  {
   "cell_type": "code",
   "execution_count": 13,
   "id": "6be63f1df04fd4aa",
   "metadata": {
    "ExecuteTime": {
     "end_time": "2025-09-03T09:48:32.355667Z",
     "start_time": "2025-09-03T09:48:32.349617Z"
    }
   },
   "outputs": [],
   "source": [
    "titles = pd.DataFrame(data['title'])"
   ]
  },
  {
   "cell_type": "code",
   "execution_count": 15,
   "id": "b5b91558395fe156",
   "metadata": {
    "ExecuteTime": {
     "end_time": "2025-09-03T09:48:41.355337Z",
     "start_time": "2025-09-03T09:48:41.347467Z"
    }
   },
   "outputs": [
    {
     "data": {
      "text/html": [
       "<div>\n",
       "<style scoped>\n",
       "    .dataframe tbody tr th:only-of-type {\n",
       "        vertical-align: middle;\n",
       "    }\n",
       "\n",
       "    .dataframe tbody tr th {\n",
       "        vertical-align: top;\n",
       "    }\n",
       "\n",
       "    .dataframe thead th {\n",
       "        text-align: right;\n",
       "    }\n",
       "</style>\n",
       "<table border=\"1\" class=\"dataframe\">\n",
       "  <thead>\n",
       "    <tr style=\"text-align: right;\">\n",
       "      <th></th>\n",
       "      <th>title</th>\n",
       "    </tr>\n",
       "  </thead>\n",
       "  <tbody>\n",
       "    <tr>\n",
       "      <th>0</th>\n",
       "      <td>Ukraine: Angry Zelensky vows to punish Russian...</td>\n",
       "    </tr>\n",
       "    <tr>\n",
       "      <th>1</th>\n",
       "      <td>War in Ukraine: Taking cover in a town under a...</td>\n",
       "    </tr>\n",
       "    <tr>\n",
       "      <th>2</th>\n",
       "      <td>Ukraine war 'catastrophic for global food'</td>\n",
       "    </tr>\n",
       "    <tr>\n",
       "      <th>3</th>\n",
       "      <td>Manchester Arena bombing: Saffie Roussos's par...</td>\n",
       "    </tr>\n",
       "    <tr>\n",
       "      <th>4</th>\n",
       "      <td>Ukraine conflict: Oil price soars to highest l...</td>\n",
       "    </tr>\n",
       "  </tbody>\n",
       "</table>\n",
       "</div>"
      ],
      "text/plain": [
       "                                               title\n",
       "0  Ukraine: Angry Zelensky vows to punish Russian...\n",
       "1  War in Ukraine: Taking cover in a town under a...\n",
       "2         Ukraine war 'catastrophic for global food'\n",
       "3  Manchester Arena bombing: Saffie Roussos's par...\n",
       "4  Ukraine conflict: Oil price soars to highest l..."
      ]
     },
     "execution_count": 15,
     "metadata": {},
     "output_type": "execute_result"
    }
   ],
   "source": [
    "titles.head()"
   ]
  },
  {
   "cell_type": "markdown",
   "id": "2de6996637b23d08",
   "metadata": {},
   "source": [
    "<h4> Clean data <h4>"
   ]
  },
  {
   "cell_type": "code",
   "execution_count": 30,
   "id": "133782efc2667dd7",
   "metadata": {
    "ExecuteTime": {
     "end_time": "2025-09-03T09:59:32.672068Z",
     "start_time": "2025-09-03T09:59:32.634736Z"
    }
   },
   "outputs": [],
   "source": [
    "# lowercase\n",
    "#data['title_lower'] = data['title'].str.lower()\n",
    "titles['lowercase'] = titles['title'].str.lower()"
   ]
  },
  {
   "cell_type": "code",
   "execution_count": 19,
   "id": "6f2a86db77952bfa",
   "metadata": {
    "ExecuteTime": {
     "end_time": "2025-09-03T09:51:33.509264Z",
     "start_time": "2025-09-03T09:51:33.501605Z"
    }
   },
   "outputs": [
    {
     "data": {
      "text/html": [
       "<div>\n",
       "<style scoped>\n",
       "    .dataframe tbody tr th:only-of-type {\n",
       "        vertical-align: middle;\n",
       "    }\n",
       "\n",
       "    .dataframe tbody tr th {\n",
       "        vertical-align: top;\n",
       "    }\n",
       "\n",
       "    .dataframe thead th {\n",
       "        text-align: right;\n",
       "    }\n",
       "</style>\n",
       "<table border=\"1\" class=\"dataframe\">\n",
       "  <thead>\n",
       "    <tr style=\"text-align: right;\">\n",
       "      <th></th>\n",
       "      <th>title</th>\n",
       "      <th>lowercase</th>\n",
       "    </tr>\n",
       "  </thead>\n",
       "  <tbody>\n",
       "    <tr>\n",
       "      <th>0</th>\n",
       "      <td>Ukraine: Angry Zelensky vows to punish Russian...</td>\n",
       "      <td>ukraine: angry zelensky vows to punish russian...</td>\n",
       "    </tr>\n",
       "    <tr>\n",
       "      <th>1</th>\n",
       "      <td>War in Ukraine: Taking cover in a town under a...</td>\n",
       "      <td>war in ukraine: taking cover in a town under a...</td>\n",
       "    </tr>\n",
       "    <tr>\n",
       "      <th>2</th>\n",
       "      <td>Ukraine war 'catastrophic for global food'</td>\n",
       "      <td>ukraine war 'catastrophic for global food'</td>\n",
       "    </tr>\n",
       "    <tr>\n",
       "      <th>3</th>\n",
       "      <td>Manchester Arena bombing: Saffie Roussos's par...</td>\n",
       "      <td>manchester arena bombing: saffie roussos's par...</td>\n",
       "    </tr>\n",
       "    <tr>\n",
       "      <th>4</th>\n",
       "      <td>Ukraine conflict: Oil price soars to highest l...</td>\n",
       "      <td>ukraine conflict: oil price soars to highest l...</td>\n",
       "    </tr>\n",
       "  </tbody>\n",
       "</table>\n",
       "</div>"
      ],
      "text/plain": [
       "                                               title  \\\n",
       "0  Ukraine: Angry Zelensky vows to punish Russian...   \n",
       "1  War in Ukraine: Taking cover in a town under a...   \n",
       "2         Ukraine war 'catastrophic for global food'   \n",
       "3  Manchester Arena bombing: Saffie Roussos's par...   \n",
       "4  Ukraine conflict: Oil price soars to highest l...   \n",
       "\n",
       "                                           lowercase  \n",
       "0  ukraine: angry zelensky vows to punish russian...  \n",
       "1  war in ukraine: taking cover in a town under a...  \n",
       "2         ukraine war 'catastrophic for global food'  \n",
       "3  manchester arena bombing: saffie roussos's par...  \n",
       "4  ukraine conflict: oil price soars to highest l...  "
      ]
     },
     "execution_count": 19,
     "metadata": {},
     "output_type": "execute_result"
    }
   ],
   "source": [
    "#data.head()\n",
    "titles.head()"
   ]
  },
  {
   "cell_type": "code",
   "execution_count": 29,
   "id": "a5e0cef96460da7b",
   "metadata": {
    "ExecuteTime": {
     "end_time": "2025-09-03T09:59:23.970133Z",
     "start_time": "2025-09-03T09:59:23.392763Z"
    }
   },
   "outputs": [],
   "source": [
    "#NO STOPWORDS\n",
    "en_stopwords= stopwords.words('english')\n",
    "titles['lowercase'] = titles['lowercase'].fillna('')\n",
    "titles['no_stopwords'] = titles['lowercase'].apply(lambda x: ' '.join([word for word in x.split() if word not in en_stopwords]) )"
   ]
  },
  {
   "cell_type": "code",
   "execution_count": 33,
   "id": "feb100b1a2454c85",
   "metadata": {
    "ExecuteTime": {
     "end_time": "2025-09-03T10:01:42.020555Z",
     "start_time": "2025-09-03T10:01:41.802088Z"
    }
   },
   "outputs": [],
   "source": [
    "#PUNCTUATION REMOVAL\n",
    "titles['no_punct'] = titles.apply(lambda x: re.sub(r'[^\\w\\s]', '', x['no_stopwords']), axis=1)"
   ]
  },
  {
   "cell_type": "code",
   "execution_count": 35,
   "id": "6e6c381df693439f",
   "metadata": {
    "ExecuteTime": {
     "end_time": "2025-09-03T10:03:09.619732Z",
     "start_time": "2025-09-03T10:03:08.177256Z"
    }
   },
   "outputs": [],
   "source": [
    "#TOKENIZE\n",
    "titles['tokenized'] = titles.apply(lambda x: word_tokenize(x['no_punct']), axis=1)"
   ]
  },
  {
   "cell_type": "code",
   "execution_count": 36,
   "id": "6a27a1fb304a005",
   "metadata": {
    "ExecuteTime": {
     "end_time": "2025-09-03T10:05:40.760653Z",
     "start_time": "2025-09-03T10:05:37.105913Z"
    }
   },
   "outputs": [],
   "source": [
    "#LEMMATIZING\n",
    "lemmatizer = WordNetLemmatizer()\n",
    "titles['lemmatized'] = titles['tokenized'].apply(lambda tokens: [lemmatizer.lemmatize(token) for token in tokens])"
   ]
  },
  {
   "cell_type": "code",
   "execution_count": 37,
   "id": "15af188be002f806",
   "metadata": {
    "ExecuteTime": {
     "end_time": "2025-09-03T10:05:56.236387Z",
     "start_time": "2025-09-03T10:05:56.226607Z"
    }
   },
   "outputs": [
    {
     "data": {
      "text/html": [
       "<div>\n",
       "<style scoped>\n",
       "    .dataframe tbody tr th:only-of-type {\n",
       "        vertical-align: middle;\n",
       "    }\n",
       "\n",
       "    .dataframe tbody tr th {\n",
       "        vertical-align: top;\n",
       "    }\n",
       "\n",
       "    .dataframe thead th {\n",
       "        text-align: right;\n",
       "    }\n",
       "</style>\n",
       "<table border=\"1\" class=\"dataframe\">\n",
       "  <thead>\n",
       "    <tr style=\"text-align: right;\">\n",
       "      <th></th>\n",
       "      <th>title</th>\n",
       "      <th>lowercase</th>\n",
       "      <th>no_stopwords</th>\n",
       "      <th>no_punct</th>\n",
       "      <th>tokenized</th>\n",
       "      <th>lemmatized</th>\n",
       "    </tr>\n",
       "  </thead>\n",
       "  <tbody>\n",
       "    <tr>\n",
       "      <th>0</th>\n",
       "      <td>Ukraine: Angry Zelensky vows to punish Russian...</td>\n",
       "      <td>ukraine: angry zelensky vows to punish russian...</td>\n",
       "      <td>ukraine: angry zelensky vows punish russian at...</td>\n",
       "      <td>ukraine angry zelensky vows punish russian atr...</td>\n",
       "      <td>[ukraine, angry, zelensky, vows, punish, russi...</td>\n",
       "      <td>[ukraine, angry, zelensky, vow, punish, russia...</td>\n",
       "    </tr>\n",
       "    <tr>\n",
       "      <th>1</th>\n",
       "      <td>War in Ukraine: Taking cover in a town under a...</td>\n",
       "      <td>war in ukraine: taking cover in a town under a...</td>\n",
       "      <td>war ukraine: taking cover town attack</td>\n",
       "      <td>war ukraine taking cover town attack</td>\n",
       "      <td>[war, ukraine, taking, cover, town, attack]</td>\n",
       "      <td>[war, ukraine, taking, cover, town, attack]</td>\n",
       "    </tr>\n",
       "    <tr>\n",
       "      <th>2</th>\n",
       "      <td>Ukraine war 'catastrophic for global food'</td>\n",
       "      <td>ukraine war 'catastrophic for global food'</td>\n",
       "      <td>ukraine war 'catastrophic global food'</td>\n",
       "      <td>ukraine war catastrophic global food</td>\n",
       "      <td>[ukraine, war, catastrophic, global, food]</td>\n",
       "      <td>[ukraine, war, catastrophic, global, food]</td>\n",
       "    </tr>\n",
       "    <tr>\n",
       "      <th>3</th>\n",
       "      <td>Manchester Arena bombing: Saffie Roussos's par...</td>\n",
       "      <td>manchester arena bombing: saffie roussos's par...</td>\n",
       "      <td>manchester arena bombing: saffie roussos's par...</td>\n",
       "      <td>manchester arena bombing saffie roussoss paren...</td>\n",
       "      <td>[manchester, arena, bombing, saffie, roussoss,...</td>\n",
       "      <td>[manchester, arena, bombing, saffie, roussoss,...</td>\n",
       "    </tr>\n",
       "    <tr>\n",
       "      <th>4</th>\n",
       "      <td>Ukraine conflict: Oil price soars to highest l...</td>\n",
       "      <td>ukraine conflict: oil price soars to highest l...</td>\n",
       "      <td>ukraine conflict: oil price soars highest leve...</td>\n",
       "      <td>ukraine conflict oil price soars highest level...</td>\n",
       "      <td>[ukraine, conflict, oil, price, soars, highest...</td>\n",
       "      <td>[ukraine, conflict, oil, price, soar, highest,...</td>\n",
       "    </tr>\n",
       "  </tbody>\n",
       "</table>\n",
       "</div>"
      ],
      "text/plain": [
       "                                               title  \\\n",
       "0  Ukraine: Angry Zelensky vows to punish Russian...   \n",
       "1  War in Ukraine: Taking cover in a town under a...   \n",
       "2         Ukraine war 'catastrophic for global food'   \n",
       "3  Manchester Arena bombing: Saffie Roussos's par...   \n",
       "4  Ukraine conflict: Oil price soars to highest l...   \n",
       "\n",
       "                                           lowercase  \\\n",
       "0  ukraine: angry zelensky vows to punish russian...   \n",
       "1  war in ukraine: taking cover in a town under a...   \n",
       "2         ukraine war 'catastrophic for global food'   \n",
       "3  manchester arena bombing: saffie roussos's par...   \n",
       "4  ukraine conflict: oil price soars to highest l...   \n",
       "\n",
       "                                        no_stopwords  \\\n",
       "0  ukraine: angry zelensky vows punish russian at...   \n",
       "1              war ukraine: taking cover town attack   \n",
       "2             ukraine war 'catastrophic global food'   \n",
       "3  manchester arena bombing: saffie roussos's par...   \n",
       "4  ukraine conflict: oil price soars highest leve...   \n",
       "\n",
       "                                            no_punct  \\\n",
       "0  ukraine angry zelensky vows punish russian atr...   \n",
       "1               war ukraine taking cover town attack   \n",
       "2               ukraine war catastrophic global food   \n",
       "3  manchester arena bombing saffie roussoss paren...   \n",
       "4  ukraine conflict oil price soars highest level...   \n",
       "\n",
       "                                           tokenized  \\\n",
       "0  [ukraine, angry, zelensky, vows, punish, russi...   \n",
       "1        [war, ukraine, taking, cover, town, attack]   \n",
       "2         [ukraine, war, catastrophic, global, food]   \n",
       "3  [manchester, arena, bombing, saffie, roussoss,...   \n",
       "4  [ukraine, conflict, oil, price, soars, highest...   \n",
       "\n",
       "                                          lemmatized  \n",
       "0  [ukraine, angry, zelensky, vow, punish, russia...  \n",
       "1        [war, ukraine, taking, cover, town, attack]  \n",
       "2         [ukraine, war, catastrophic, global, food]  \n",
       "3  [manchester, arena, bombing, saffie, roussoss,...  \n",
       "4  [ukraine, conflict, oil, price, soar, highest,...  "
      ]
     },
     "execution_count": 37,
     "metadata": {},
     "output_type": "execute_result"
    }
   ],
   "source": [
    "titles.head()"
   ]
  },
  {
   "cell_type": "code",
   "execution_count": 39,
   "id": "4b9606bf861a1dee",
   "metadata": {
    "ExecuteTime": {
     "end_time": "2025-09-03T10:12:13.968747Z",
     "start_time": "2025-09-03T10:11:24.334058Z"
    }
   },
   "outputs": [],
   "source": [
    "#CREATE LISTS FOR THE TOKENS\n",
    "tokens_list= sum(titles['lemmatized'], [])"
   ]
  },
  {
   "cell_type": "markdown",
   "id": "1e97f646326661c7",
   "metadata": {},
   "source": [
    "<h4> POS Tagging <h4>"
   ]
  },
  {
   "cell_type": "code",
   "execution_count": 49,
   "id": "6a44605f6c98fcf",
   "metadata": {
    "ExecuteTime": {
     "end_time": "2025-09-03T10:22:56.945584Z",
     "start_time": "2025-09-03T10:22:56.530614Z"
    }
   },
   "outputs": [],
   "source": [
    "nlp = spacy.load(\"en_core_web_sm\")\n",
    "nlp.max_length= 3_000_000"
   ]
  },
  {
   "cell_type": "code",
   "execution_count": 50,
   "id": "e4baf4cf63bd9252",
   "metadata": {
    "ExecuteTime": {
     "end_time": "2025-09-03T10:24:16.978258Z",
     "start_time": "2025-09-03T10:23:10.045514Z"
    }
   },
   "outputs": [],
   "source": [
    "spacy_doc=nlp(' '.join(tokens_list))"
   ]
  },
  {
   "cell_type": "code",
   "execution_count": 51,
   "id": "4c4e3ac12a1529a2",
   "metadata": {
    "ExecuteTime": {
     "end_time": "2025-09-03T10:24:24.553732Z",
     "start_time": "2025-09-03T10:24:24.547089Z"
    }
   },
   "outputs": [],
   "source": [
    "pos_df = pd.DataFrame(columns=['token','POS'])"
   ]
  },
  {
   "cell_type": "code",
   "execution_count": 55,
   "id": "444888e18d62087e",
   "metadata": {
    "ExecuteTime": {
     "end_time": "2025-09-03T10:36:37.090537Z",
     "start_time": "2025-09-03T10:26:11.716561Z"
    }
   },
   "outputs": [],
   "source": [
    "for token in spacy_doc:\n",
    "    pos_df = pd.concat([pos_df, pd.DataFrame.from_records([{'token': token.text, 'POS': token.pos_}])], ignore_index=True)"
   ]
  },
  {
   "cell_type": "code",
   "execution_count": 56,
   "id": "3397a4b3939ff783",
   "metadata": {
    "ExecuteTime": {
     "end_time": "2025-09-03T10:37:37.650437Z",
     "start_time": "2025-09-03T10:37:37.554573Z"
    }
   },
   "outputs": [
    {
     "data": {
      "text/html": [
       "<div>\n",
       "<style scoped>\n",
       "    .dataframe tbody tr th:only-of-type {\n",
       "        vertical-align: middle;\n",
       "    }\n",
       "\n",
       "    .dataframe tbody tr th {\n",
       "        vertical-align: top;\n",
       "    }\n",
       "\n",
       "    .dataframe thead th {\n",
       "        text-align: right;\n",
       "    }\n",
       "</style>\n",
       "<table border=\"1\" class=\"dataframe\">\n",
       "  <thead>\n",
       "    <tr style=\"text-align: right;\">\n",
       "      <th></th>\n",
       "      <th>token</th>\n",
       "      <th>POS</th>\n",
       "      <th>counts</th>\n",
       "    </tr>\n",
       "  </thead>\n",
       "  <tbody>\n",
       "    <tr>\n",
       "      <th>27379</th>\n",
       "      <td>say</td>\n",
       "      <td>VERB</td>\n",
       "      <td>2277</td>\n",
       "    </tr>\n",
       "    <tr>\n",
       "      <th>10799</th>\n",
       "      <td>england</td>\n",
       "      <td>PROPN</td>\n",
       "      <td>1559</td>\n",
       "    </tr>\n",
       "    <tr>\n",
       "      <th>32411</th>\n",
       "      <td>uk</td>\n",
       "      <td>PROPN</td>\n",
       "      <td>1530</td>\n",
       "    </tr>\n",
       "    <tr>\n",
       "      <th>8142</th>\n",
       "      <td>cup</td>\n",
       "      <td>PROPN</td>\n",
       "      <td>1146</td>\n",
       "    </tr>\n",
       "    <tr>\n",
       "      <th>33681</th>\n",
       "      <td>war</td>\n",
       "      <td>NOUN</td>\n",
       "      <td>1061</td>\n",
       "    </tr>\n",
       "    <tr>\n",
       "      <th>21593</th>\n",
       "      <td>new</td>\n",
       "      <td>ADJ</td>\n",
       "      <td>944</td>\n",
       "    </tr>\n",
       "    <tr>\n",
       "      <th>34503</th>\n",
       "      <td>world</td>\n",
       "      <td>NOUN</td>\n",
       "      <td>896</td>\n",
       "    </tr>\n",
       "    <tr>\n",
       "      <th>19409</th>\n",
       "      <td>man</td>\n",
       "      <td>NOUN</td>\n",
       "      <td>878</td>\n",
       "    </tr>\n",
       "    <tr>\n",
       "      <th>34504</th>\n",
       "      <td>world</td>\n",
       "      <td>PROPN</td>\n",
       "      <td>878</td>\n",
       "    </tr>\n",
       "    <tr>\n",
       "      <th>463</th>\n",
       "      <td>2023</td>\n",
       "      <td>NUM</td>\n",
       "      <td>830</td>\n",
       "    </tr>\n",
       "  </tbody>\n",
       "</table>\n",
       "</div>"
      ],
      "text/plain": [
       "         token    POS  counts\n",
       "27379      say   VERB    2277\n",
       "10799  england  PROPN    1559\n",
       "32411       uk  PROPN    1530\n",
       "8142       cup  PROPN    1146\n",
       "33681      war   NOUN    1061\n",
       "21593      new    ADJ     944\n",
       "34503    world   NOUN     896\n",
       "19409      man   NOUN     878\n",
       "34504    world  PROPN     878\n",
       "463       2023    NUM     830"
      ]
     },
     "execution_count": 56,
     "metadata": {},
     "output_type": "execute_result"
    }
   ],
   "source": [
    "pos_df_counts = pos_df.groupby(['token', 'POS']).size().reset_index(name='counts').sort_values(by='counts', ascending=False)\n",
    "pos_df_counts.head(10)"
   ]
  },
  {
   "cell_type": "code",
   "execution_count": 58,
   "id": "5de624fd20266d40",
   "metadata": {
    "ExecuteTime": {
     "end_time": "2025-09-03T10:40:54.897328Z",
     "start_time": "2025-09-03T10:40:54.888692Z"
    }
   },
   "outputs": [
    {
     "data": {
      "text/html": [
       "<div>\n",
       "<style scoped>\n",
       "    .dataframe tbody tr th:only-of-type {\n",
       "        vertical-align: middle;\n",
       "    }\n",
       "\n",
       "    .dataframe tbody tr th {\n",
       "        vertical-align: top;\n",
       "    }\n",
       "\n",
       "    .dataframe thead th {\n",
       "        text-align: right;\n",
       "    }\n",
       "</style>\n",
       "<table border=\"1\" class=\"dataframe\">\n",
       "  <thead>\n",
       "    <tr style=\"text-align: right;\">\n",
       "      <th></th>\n",
       "      <th>token</th>\n",
       "      <th>POS</th>\n",
       "      <th>counts</th>\n",
       "    </tr>\n",
       "  </thead>\n",
       "  <tbody>\n",
       "    <tr>\n",
       "      <th>33681</th>\n",
       "      <td>war</td>\n",
       "      <td>NOUN</td>\n",
       "      <td>1061</td>\n",
       "    </tr>\n",
       "    <tr>\n",
       "      <th>34503</th>\n",
       "      <td>world</td>\n",
       "      <td>NOUN</td>\n",
       "      <td>896</td>\n",
       "    </tr>\n",
       "    <tr>\n",
       "      <th>19409</th>\n",
       "      <td>man</td>\n",
       "      <td>NOUN</td>\n",
       "      <td>878</td>\n",
       "    </tr>\n",
       "    <tr>\n",
       "      <th>34758</th>\n",
       "      <td>year</td>\n",
       "      <td>NOUN</td>\n",
       "      <td>802</td>\n",
       "    </tr>\n",
       "    <tr>\n",
       "      <th>34416</th>\n",
       "      <td>woman</td>\n",
       "      <td>NOUN</td>\n",
       "      <td>737</td>\n",
       "    </tr>\n",
       "    <tr>\n",
       "      <th>...</th>\n",
       "      <td>...</td>\n",
       "      <td>...</td>\n",
       "      <td>...</td>\n",
       "    </tr>\n",
       "    <tr>\n",
       "      <th>18168</th>\n",
       "      <td>leaderboard</td>\n",
       "      <td>NOUN</td>\n",
       "      <td>1</td>\n",
       "    </tr>\n",
       "    <tr>\n",
       "      <th>18173</th>\n",
       "      <td>leadmill</td>\n",
       "      <td>NOUN</td>\n",
       "      <td>1</td>\n",
       "    </tr>\n",
       "    <tr>\n",
       "      <th>18213</th>\n",
       "      <td>learner</td>\n",
       "      <td>NOUN</td>\n",
       "      <td>1</td>\n",
       "    </tr>\n",
       "    <tr>\n",
       "      <th>18217</th>\n",
       "      <td>learns</td>\n",
       "      <td>NOUN</td>\n",
       "      <td>1</td>\n",
       "    </tr>\n",
       "    <tr>\n",
       "      <th>18203</th>\n",
       "      <td>leap</td>\n",
       "      <td>NOUN</td>\n",
       "      <td>1</td>\n",
       "    </tr>\n",
       "  </tbody>\n",
       "</table>\n",
       "<p>10911 rows × 3 columns</p>\n",
       "</div>"
      ],
      "text/plain": [
       "             token   POS  counts\n",
       "33681          war  NOUN    1061\n",
       "34503        world  NOUN     896\n",
       "19409          man  NOUN     878\n",
       "34758         year  NOUN     802\n",
       "34416        woman  NOUN     737\n",
       "...            ...   ...     ...\n",
       "18168  leaderboard  NOUN       1\n",
       "18173     leadmill  NOUN       1\n",
       "18213      learner  NOUN       1\n",
       "18217       learns  NOUN       1\n",
       "18203         leap  NOUN       1\n",
       "\n",
       "[10911 rows x 3 columns]"
      ]
     },
     "execution_count": 58,
     "metadata": {},
     "output_type": "execute_result"
    }
   ],
   "source": [
    "nouns = pos_df_counts[pos_df_counts['POS']=='NOUN']\n",
    "nouns"
   ]
  },
  {
   "cell_type": "code",
   "execution_count": 60,
   "id": "2e5f230546c70724",
   "metadata": {
    "ExecuteTime": {
     "end_time": "2025-09-03T10:41:28.588289Z",
     "start_time": "2025-09-03T10:41:28.582090Z"
    }
   },
   "outputs": [
    {
     "data": {
      "text/html": [
       "<div>\n",
       "<style scoped>\n",
       "    .dataframe tbody tr th:only-of-type {\n",
       "        vertical-align: middle;\n",
       "    }\n",
       "\n",
       "    .dataframe tbody tr th {\n",
       "        vertical-align: top;\n",
       "    }\n",
       "\n",
       "    .dataframe thead th {\n",
       "        text-align: right;\n",
       "    }\n",
       "</style>\n",
       "<table border=\"1\" class=\"dataframe\">\n",
       "  <thead>\n",
       "    <tr style=\"text-align: right;\">\n",
       "      <th></th>\n",
       "      <th>token</th>\n",
       "      <th>POS</th>\n",
       "      <th>counts</th>\n",
       "    </tr>\n",
       "  </thead>\n",
       "  <tbody>\n",
       "    <tr>\n",
       "      <th>21593</th>\n",
       "      <td>new</td>\n",
       "      <td>ADJ</td>\n",
       "      <td>944</td>\n",
       "    </tr>\n",
       "    <tr>\n",
       "      <th>12213</th>\n",
       "      <td>final</td>\n",
       "      <td>ADJ</td>\n",
       "      <td>535</td>\n",
       "    </tr>\n",
       "    <tr>\n",
       "      <th>26991</th>\n",
       "      <td>russian</td>\n",
       "      <td>ADJ</td>\n",
       "      <td>509</td>\n",
       "    </tr>\n",
       "    <tr>\n",
       "      <th>12309</th>\n",
       "      <td>first</td>\n",
       "      <td>ADJ</td>\n",
       "      <td>496</td>\n",
       "    </tr>\n",
       "    <tr>\n",
       "      <th>8525</th>\n",
       "      <td>dead</td>\n",
       "      <td>ADJ</td>\n",
       "      <td>342</td>\n",
       "    </tr>\n",
       "    <tr>\n",
       "      <th>...</th>\n",
       "      <td>...</td>\n",
       "      <td>...</td>\n",
       "      <td>...</td>\n",
       "    </tr>\n",
       "    <tr>\n",
       "      <th>18181</th>\n",
       "      <td>leafy</td>\n",
       "      <td>ADJ</td>\n",
       "      <td>1</td>\n",
       "    </tr>\n",
       "    <tr>\n",
       "      <th>18186</th>\n",
       "      <td>leah</td>\n",
       "      <td>ADJ</td>\n",
       "      <td>1</td>\n",
       "    </tr>\n",
       "    <tr>\n",
       "      <th>18212</th>\n",
       "      <td>learner</td>\n",
       "      <td>ADJ</td>\n",
       "      <td>1</td>\n",
       "    </tr>\n",
       "    <tr>\n",
       "      <th>18197</th>\n",
       "      <td>lean</td>\n",
       "      <td>ADJ</td>\n",
       "      <td>1</td>\n",
       "    </tr>\n",
       "    <tr>\n",
       "      <th>18199</th>\n",
       "      <td>leaner</td>\n",
       "      <td>ADJ</td>\n",
       "      <td>1</td>\n",
       "    </tr>\n",
       "  </tbody>\n",
       "</table>\n",
       "<p>3850 rows × 3 columns</p>\n",
       "</div>"
      ],
      "text/plain": [
       "         token  POS  counts\n",
       "21593      new  ADJ     944\n",
       "12213    final  ADJ     535\n",
       "26991  russian  ADJ     509\n",
       "12309    first  ADJ     496\n",
       "8525      dead  ADJ     342\n",
       "...        ...  ...     ...\n",
       "18181    leafy  ADJ       1\n",
       "18186     leah  ADJ       1\n",
       "18212  learner  ADJ       1\n",
       "18197     lean  ADJ       1\n",
       "18199   leaner  ADJ       1\n",
       "\n",
       "[3850 rows x 3 columns]"
      ]
     },
     "execution_count": 60,
     "metadata": {},
     "output_type": "execute_result"
    }
   ],
   "source": [
    "adj= pos_df_counts[pos_df_counts['POS']=='ADJ']\n",
    "adj"
   ]
  },
  {
   "cell_type": "markdown",
   "id": "9ca18fd35e4f03b6",
   "metadata": {},
   "source": [
    "<h4> NER <H4"
   ]
  },
  {
   "cell_type": "code",
   "execution_count": 62,
   "id": "c3697323d1419470",
   "metadata": {
    "ExecuteTime": {
     "end_time": "2025-09-03T10:44:46.241524Z",
     "start_time": "2025-09-03T10:44:37.717592Z"
    }
   },
   "outputs": [],
   "source": [
    "ner_df = pd.DataFrame(columns=['token','NER_tag'])\n",
    "for token in spacy_doc.ents:\n",
    "    if pd.isna(token.label_) is False:\n",
    "        ner_df = pd.concat([ner_df, pd.DataFrame.from_records([{'token': token.text, 'NER_tag': token.label_}])], ignore_index=True)"
   ]
  },
  {
   "cell_type": "code",
   "execution_count": 63,
   "id": "a7c970747c6065a",
   "metadata": {
    "ExecuteTime": {
     "end_time": "2025-09-03T10:45:23.874176Z",
     "start_time": "2025-09-03T10:45:23.869656Z"
    }
   },
   "outputs": [
    {
     "data": {
      "text/html": [
       "<div>\n",
       "<style scoped>\n",
       "    .dataframe tbody tr th:only-of-type {\n",
       "        vertical-align: middle;\n",
       "    }\n",
       "\n",
       "    .dataframe tbody tr th {\n",
       "        vertical-align: top;\n",
       "    }\n",
       "\n",
       "    .dataframe thead th {\n",
       "        text-align: right;\n",
       "    }\n",
       "</style>\n",
       "<table border=\"1\" class=\"dataframe\">\n",
       "  <thead>\n",
       "    <tr style=\"text-align: right;\">\n",
       "      <th></th>\n",
       "      <th>token</th>\n",
       "      <th>NER_tag</th>\n",
       "    </tr>\n",
       "  </thead>\n",
       "  <tbody>\n",
       "    <tr>\n",
       "      <th>0</th>\n",
       "      <td>ukraine</td>\n",
       "      <td>GPE</td>\n",
       "    </tr>\n",
       "    <tr>\n",
       "      <th>1</th>\n",
       "      <td>zelensky</td>\n",
       "      <td>PERSON</td>\n",
       "    </tr>\n",
       "    <tr>\n",
       "      <th>2</th>\n",
       "      <td>russian</td>\n",
       "      <td>NORP</td>\n",
       "    </tr>\n",
       "    <tr>\n",
       "      <th>3</th>\n",
       "      <td>arena bombing saffie roussoss parent</td>\n",
       "      <td>ORG</td>\n",
       "    </tr>\n",
       "    <tr>\n",
       "      <th>4</th>\n",
       "      <td>2008</td>\n",
       "      <td>DATE</td>\n",
       "    </tr>\n",
       "  </tbody>\n",
       "</table>\n",
       "</div>"
      ],
      "text/plain": [
       "                                  token NER_tag\n",
       "0                               ukraine     GPE\n",
       "1                              zelensky  PERSON\n",
       "2                               russian    NORP\n",
       "3  arena bombing saffie roussoss parent     ORG\n",
       "4                                  2008    DATE"
      ]
     },
     "execution_count": 63,
     "metadata": {},
     "output_type": "execute_result"
    }
   ],
   "source": [
    "ner_df.head()"
   ]
  },
  {
   "cell_type": "code",
   "execution_count": 67,
   "id": "b7fea7a59e72936b",
   "metadata": {
    "ExecuteTime": {
     "end_time": "2025-09-03T10:48:06.699898Z",
     "start_time": "2025-09-03T10:48:06.677859Z"
    }
   },
   "outputs": [
    {
     "data": {
      "text/html": [
       "<div>\n",
       "<style scoped>\n",
       "    .dataframe tbody tr th:only-of-type {\n",
       "        vertical-align: middle;\n",
       "    }\n",
       "\n",
       "    .dataframe tbody tr th {\n",
       "        vertical-align: top;\n",
       "    }\n",
       "\n",
       "    .dataframe thead th {\n",
       "        text-align: right;\n",
       "    }\n",
       "</style>\n",
       "<table border=\"1\" class=\"dataframe\">\n",
       "  <thead>\n",
       "    <tr style=\"text-align: right;\">\n",
       "      <th></th>\n",
       "      <th>token</th>\n",
       "      <th>NER_tag</th>\n",
       "      <th>counts</th>\n",
       "    </tr>\n",
       "  </thead>\n",
       "  <tbody>\n",
       "    <tr>\n",
       "      <th>4390</th>\n",
       "      <td>first</td>\n",
       "      <td>ORDINAL</td>\n",
       "      <td>707</td>\n",
       "    </tr>\n",
       "    <tr>\n",
       "      <th>8873</th>\n",
       "      <td>russia</td>\n",
       "      <td>GPE</td>\n",
       "      <td>588</td>\n",
       "    </tr>\n",
       "    <tr>\n",
       "      <th>8883</th>\n",
       "      <td>russian</td>\n",
       "      <td>NORP</td>\n",
       "      <td>545</td>\n",
       "    </tr>\n",
       "    <tr>\n",
       "      <th>5342</th>\n",
       "      <td>israel</td>\n",
       "      <td>GPE</td>\n",
       "      <td>502</td>\n",
       "    </tr>\n",
       "    <tr>\n",
       "      <th>4608</th>\n",
       "      <td>gaza</td>\n",
       "      <td>GPE</td>\n",
       "      <td>487</td>\n",
       "    </tr>\n",
       "    <tr>\n",
       "      <th>2268</th>\n",
       "      <td>bbc</td>\n",
       "      <td>ORG</td>\n",
       "      <td>460</td>\n",
       "    </tr>\n",
       "    <tr>\n",
       "      <th>591</th>\n",
       "      <td>2022</td>\n",
       "      <td>CARDINAL</td>\n",
       "      <td>457</td>\n",
       "    </tr>\n",
       "    <tr>\n",
       "      <th>10056</th>\n",
       "      <td>uk</td>\n",
       "      <td>GPE</td>\n",
       "      <td>394</td>\n",
       "    </tr>\n",
       "    <tr>\n",
       "      <th>606</th>\n",
       "      <td>2023</td>\n",
       "      <td>CARDINAL</td>\n",
       "      <td>354</td>\n",
       "    </tr>\n",
       "    <tr>\n",
       "      <th>4041</th>\n",
       "      <td>england</td>\n",
       "      <td>GPE</td>\n",
       "      <td>352</td>\n",
       "    </tr>\n",
       "  </tbody>\n",
       "</table>\n",
       "</div>"
      ],
      "text/plain": [
       "         token   NER_tag  counts\n",
       "4390     first   ORDINAL     707\n",
       "8873    russia       GPE     588\n",
       "8883   russian      NORP     545\n",
       "5342    israel       GPE     502\n",
       "4608      gaza       GPE     487\n",
       "2268       bbc       ORG     460\n",
       "591       2022  CARDINAL     457\n",
       "10056       uk       GPE     394\n",
       "606       2023  CARDINAL     354\n",
       "4041   england       GPE     352"
      ]
     },
     "execution_count": 67,
     "metadata": {},
     "output_type": "execute_result"
    }
   ],
   "source": [
    "ner_df_counts = ner_df.groupby(['token', 'NER_tag']).size().reset_index(name='counts').sort_values(by='counts', ascending=False)\n",
    "ner_df_counts.head(10)"
   ]
  },
  {
   "cell_type": "code",
   "execution_count": 69,
   "id": "db88c8dc3599b6f2",
   "metadata": {
    "ExecuteTime": {
     "end_time": "2025-09-03T10:48:21.724277Z",
     "start_time": "2025-09-03T10:48:21.717116Z"
    }
   },
   "outputs": [
    {
     "data": {
      "text/html": [
       "<div>\n",
       "<style scoped>\n",
       "    .dataframe tbody tr th:only-of-type {\n",
       "        vertical-align: middle;\n",
       "    }\n",
       "\n",
       "    .dataframe tbody tr th {\n",
       "        vertical-align: top;\n",
       "    }\n",
       "\n",
       "    .dataframe thead th {\n",
       "        text-align: right;\n",
       "    }\n",
       "</style>\n",
       "<table border=\"1\" class=\"dataframe\">\n",
       "  <thead>\n",
       "    <tr style=\"text-align: right;\">\n",
       "      <th></th>\n",
       "      <th>token</th>\n",
       "      <th>NER_tag</th>\n",
       "      <th>counts</th>\n",
       "    </tr>\n",
       "  </thead>\n",
       "  <tbody>\n",
       "    <tr>\n",
       "      <th>8446</th>\n",
       "      <td>putin</td>\n",
       "      <td>PERSON</td>\n",
       "      <td>192</td>\n",
       "    </tr>\n",
       "    <tr>\n",
       "      <th>2616</th>\n",
       "      <td>boris johnson</td>\n",
       "      <td>PERSON</td>\n",
       "      <td>144</td>\n",
       "    </tr>\n",
       "    <tr>\n",
       "      <th>3161</th>\n",
       "      <td>chris mason</td>\n",
       "      <td>PERSON</td>\n",
       "      <td>78</td>\n",
       "    </tr>\n",
       "    <tr>\n",
       "      <th>9655</th>\n",
       "      <td>taylor</td>\n",
       "      <td>PERSON</td>\n",
       "      <td>72</td>\n",
       "    </tr>\n",
       "    <tr>\n",
       "      <th>11004</th>\n",
       "      <td>zelensky</td>\n",
       "      <td>PERSON</td>\n",
       "      <td>62</td>\n",
       "    </tr>\n",
       "    <tr>\n",
       "      <th>...</th>\n",
       "      <td>...</td>\n",
       "      <td>...</td>\n",
       "      <td>...</td>\n",
       "    </tr>\n",
       "    <tr>\n",
       "      <th>11019</th>\n",
       "      <td>zelensky nato</td>\n",
       "      <td>PERSON</td>\n",
       "      <td>1</td>\n",
       "    </tr>\n",
       "    <tr>\n",
       "      <th>11020</th>\n",
       "      <td>zelensky peter</td>\n",
       "      <td>PERSON</td>\n",
       "      <td>1</td>\n",
       "    </tr>\n",
       "    <tr>\n",
       "      <th>11010</th>\n",
       "      <td>zelensky charles bronson</td>\n",
       "      <td>PERSON</td>\n",
       "      <td>1</td>\n",
       "    </tr>\n",
       "    <tr>\n",
       "      <th>11011</th>\n",
       "      <td>zelensky chris</td>\n",
       "      <td>PERSON</td>\n",
       "      <td>1</td>\n",
       "    </tr>\n",
       "    <tr>\n",
       "      <th>11012</th>\n",
       "      <td>zelensky hu jintao mysterious</td>\n",
       "      <td>PERSON</td>\n",
       "      <td>1</td>\n",
       "    </tr>\n",
       "  </tbody>\n",
       "</table>\n",
       "<p>5033 rows × 3 columns</p>\n",
       "</div>"
      ],
      "text/plain": [
       "                               token NER_tag  counts\n",
       "8446                           putin  PERSON     192\n",
       "2616                   boris johnson  PERSON     144\n",
       "3161                     chris mason  PERSON      78\n",
       "9655                          taylor  PERSON      72\n",
       "11004                       zelensky  PERSON      62\n",
       "...                              ...     ...     ...\n",
       "11019                  zelensky nato  PERSON       1\n",
       "11020                 zelensky peter  PERSON       1\n",
       "11010       zelensky charles bronson  PERSON       1\n",
       "11011                 zelensky chris  PERSON       1\n",
       "11012  zelensky hu jintao mysterious  PERSON       1\n",
       "\n",
       "[5033 rows x 3 columns]"
      ]
     },
     "execution_count": 69,
     "metadata": {},
     "output_type": "execute_result"
    }
   ],
   "source": [
    "people = ner_df_counts[ner_df_counts['NER_tag']=='PERSON']\n",
    "people"
   ]
  },
  {
   "cell_type": "code",
   "execution_count": null,
   "id": "c6edf69149397144",
   "metadata": {},
   "outputs": [],
   "source": []
  }
 ],
 "metadata": {
  "kernelspec": {
   "display_name": "Python 3 (ipykernel)",
   "language": "python",
   "name": "python3"
  },
  "language_info": {
   "codemirror_mode": {
    "name": "ipython",
    "version": 3
   },
   "file_extension": ".py",
   "mimetype": "text/x-python",
   "name": "python",
   "nbconvert_exporter": "python",
   "pygments_lexer": "ipython3",
   "version": "3.11.13"
  }
 },
 "nbformat": 4,
 "nbformat_minor": 5
}
